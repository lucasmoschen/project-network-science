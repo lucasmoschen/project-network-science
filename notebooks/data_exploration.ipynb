{
 "cells": [
  {
   "cell_type": "markdown",
   "id": "284a7f6a-581c-4d94-a354-82411a5149d9",
   "metadata": {},
   "source": [
    "# Brazilian Chamber of Deputies \n",
    "\n",
    "The Open Data from Chamber service provides a collection of features that allow direct access to legislative data produced in the Chamber of Deputies, such as data on deputies, legislative bodies, proposals, plenary sessions, and committee meetings. \n",
    "\n",
    "There are two different ways to obtain this data. \n",
    "\n",
    "1. Through the available API, with `DadosAbertosBrasil` package developed by Gustavo Furtado or directly with `requests` package. \n",
    "\n",
    "2. Download `json` or `csv` formats from the website. \n",
    "\n",
    "Open data API website: https://dadosabertos.camara.leg.br/swagger/api.html#api\n",
    "\n",
    "`DadosAbertosBrasil` package website: https://www.gustavofurtado.com/DadosAbertosBrasil/camara.html#documentacao-da-api-original\n",
    "\n",
    "If necessary, install it.  "
   ]
  },
  {
   "cell_type": "raw",
   "id": "14ba5e3a-7d84-41b0-bd53-51137fca660f",
   "metadata": {},
   "source": [
    "!pip install DadosAbertosBrasil"
   ]
  },
  {
   "cell_type": "code",
   "execution_count": 42,
   "id": "fcbdf0e5-c313-42bd-a1f5-3a36601bc681",
   "metadata": {},
   "outputs": [],
   "source": [
    "import pandas as pd\n",
    "import numpy as np\n",
    "from scipy.stats import chisquare\n",
    "import networkx as nx\n",
    "\n",
    "from DadosAbertosBrasil import camara\n",
    "\n",
    "import matplotlib.pyplot as plt\n",
    "import seaborn as sns\n",
    "sns.set()\n",
    "\n",
    "import json\n",
    "import time, tqdm\n",
    "import requests"
   ]
  },
  {
   "cell_type": "markdown",
   "id": "22f72f0a-ac4b-436e-9358-4819236a9e90",
   "metadata": {},
   "source": [
    "## Notebook settings "
   ]
  },
  {
   "cell_type": "code",
   "execution_count": 2,
   "id": "8532504c-6092-42d3-a988-3295e4bf82b7",
   "metadata": {},
   "outputs": [],
   "source": [
    "api = \"https://dadosabertos.camara.leg.br/api/v2/\""
   ]
  },
  {
   "cell_type": "markdown",
   "id": "1751cfa3-8831-479f-a069-28bcff2eee10",
   "metadata": {},
   "source": [
    "## Party blocs (Blocos partidários)\n",
    "\n",
    "The parties can join party blocs to work with a single leader and the same vice-leaders, where there are common interests. The blocs can only exist until the end of the legislature in which they were created. Apparently, there is non enough data related to that. "
   ]
  },
  {
   "cell_type": "code",
   "execution_count": 4,
   "id": "00713c13-769f-4e2f-b0e2-9e840d604cce",
   "metadata": {},
   "outputs": [
    {
     "name": "stderr",
     "output_type": "stream",
     "text": [
      "100%|██████████| 56/56 [03:27<00:00,  3.71s/it]\n"
     ]
    }
   ],
   "source": [
    "text = ''\n",
    "\n",
    "for leg in tqdm.tqdm(range(1,57)):\n",
    "    blocks = camara.lista_blocos(legislatura=leg)\n",
    "    num = blocks.shape[0]\n",
    "    if num > 0: \n",
    "        text += \"Legislatura {} teve {} blocos partidários. \\n\\n\".format(leg,num)\n",
    "    time.sleep(3)"
   ]
  },
  {
   "cell_type": "code",
   "execution_count": 5,
   "id": "b5e711b6-2a8b-4a84-970f-0bea9b007ea6",
   "metadata": {},
   "outputs": [
    {
     "name": "stdout",
     "output_type": "stream",
     "text": [
      "Legislatura 54 teve 15 blocos partidários. \n",
      "\n",
      "Legislatura 55 teve 10 blocos partidários. \n",
      "\n",
      "Legislatura 56 teve 7 blocos partidários. \n",
      "\n",
      "\n"
     ]
    }
   ],
   "source": [
    "print(text)"
   ]
  },
  {
   "cell_type": "code",
   "execution_count": 12,
   "id": "77d1bcd6-aabf-49c5-948a-143bf9540254",
   "metadata": {},
   "outputs": [
    {
     "data": {
      "text/plain": [
       "{'id': '579',\n",
       " 'uri': 'https://dadosabertos.camara.leg.br/api/v2/blocos/579',\n",
       " 'nome': 'CIDADANIA, PV',\n",
       " 'idLegislatura': '56'}"
      ]
     },
     "execution_count": 12,
     "metadata": {},
     "output_type": "execute_result"
    }
   ],
   "source": [
    "camara.Bloco(cod = blocks.loc[0].id).dados"
   ]
  },
  {
   "cell_type": "markdown",
   "id": "620ecea7-2038-40fa-a437-633c98b092e5",
   "metadata": {},
   "source": [
    "## Deputies\n",
    "\n",
    "Basic data about deputies who have been in parliamentary exercise at some time interval."
   ]
  },
  {
   "cell_type": "code",
   "execution_count": 35,
   "id": "04b43057-85d1-4c7b-970a-244aebdd69b3",
   "metadata": {},
   "outputs": [],
   "source": [
    "deputies = camara.lista_deputados(legislatura=56)"
   ]
  },
  {
   "cell_type": "code",
   "execution_count": 43,
   "id": "b0d55144-cb38-43af-aa9b-ac094b664cdd",
   "metadata": {},
   "outputs": [
    {
     "data": {
      "text/plain": [
       "<AxesSubplot:>"
      ]
     },
     "execution_count": 43,
     "metadata": {},
     "output_type": "execute_result"
    },
    {
     "data": {
      "image/png": "[encoded data removed]",
      "text/plain": [
       "<Figure size 432x288 with 1 Axes>"
      ]
     },
     "metadata": {},
     "output_type": "display_data"
    }
   ],
   "source": [
    "deputies.siglaUf.value_counts().plot.bar()"
   ]
  },
  {
   "cell_type": "code",
   "execution_count": 78,
   "id": "bbcec323-9634-4d9e-92fc-fa1eeadcaeae",
   "metadata": {},
   "outputs": [
    {
     "name": "stderr",
     "output_type": "stream",
     "text": [
      "100%|██████████| 7/7 [00:30<00:00,  4.37s/it]\n"
     ]
    }
   ],
   "source": [
    "n = 7\n",
    "prop_years = np.zeros((3,n))\n",
    "prop_years[0,:] = range(57-n,57)\n",
    "\n",
    "for leg in tqdm.tqdm(prop_years[0,:].astype(int)): \n",
    "    \n",
    "    deputies_F = camara.lista_deputados(legislatura=leg, sexo='F')\n",
    "    deputies_M = camara.lista_deputados(legislatura=leg, sexo='M')\n",
    "    \n",
    "    prop_years[1,leg-50] = deputies_F.shape[0]/(deputies_F.shape[0]+deputies_M.shape[0])\n",
    "    prop_years[2,leg-50] = 1 - prop_years[1,leg-50]\n",
    "    \n",
    "    time.sleep(3)"
   ]
  },
  {
   "cell_type": "code",
   "execution_count": 83,
   "id": "2676b832-6d2f-43f3-ae7c-a7674a2a5922",
   "metadata": {},
   "outputs": [
    {
     "data": {
      "image/png": "[encoded data removed]",
      "text/plain": [
       "<Figure size 432x288 with 1 Axes>"
      ]
     },
     "metadata": {},
     "output_type": "display_data"
    }
   ],
   "source": [
    "plt.stackplot(prop_years[0,:],  prop_years[2,:], prop_years[1,:])\n",
    "plt.title('Proportion by sex in the chamber')\n",
    "plt.xlabel('Legislature')\n",
    "plt.show()"
   ]
  },
  {
   "cell_type": "code",
   "execution_count": 99,
   "id": "495ca76c-48cf-497b-a762-3ace1c43abf3",
   "metadata": {},
   "outputs": [
    {
     "name": "stderr",
     "output_type": "stream",
     "text": [
      "100%|██████████| 19/19 [01:02<00:00,  3.27s/it]\n"
     ]
    }
   ],
   "source": [
    "number_parties = []\n",
    "\n",
    "for leg in tqdm.tqdm(range(38,57)):\n",
    "    \n",
    "    parties_leg = camara.lista_deputados(legislatura=leg).siglaPartido.unique().shape[0]\n",
    "    number_parties.append(parties_leg)\n",
    "    \n",
    "    time.sleep(2)"
   ]
  },
  {
   "cell_type": "code",
   "execution_count": 105,
   "id": "cebea22e-4f1e-40a8-ba28-76070b2cd1fa",
   "metadata": {},
   "outputs": [
    {
     "data": {
      "image/png": "[encoded data removed]",
      "text/plain": [
       "<Figure size 432x288 with 1 Axes>"
      ]
     },
     "metadata": {},
     "output_type": "display_data"
    }
   ],
   "source": [
    "plt.plot(range(38,57), number_parties)\n",
    "plt.axvline(42, color = 'red', alpha = 0.5, linestyle = '--', label = 'Dictatorship period')\n",
    "plt.axvline(47, color = 'red', alpha = 0.5, linestyle = '--')\n",
    "plt.xlabel('Legislature')\n",
    "plt.title('Number of (elected) parties per legislature')\n",
    "plt.legend()\n",
    "plt.show()"
   ]
  },
  {
   "cell_type": "code",
   "execution_count": null,
   "id": "7bac33ce-7890-40a6-bc83-86e40aa7239c",
   "metadata": {},
   "outputs": [],
   "source": []
  }
 ],
 "metadata": {
  "kernelspec": {
   "display_name": "Python 3.7.3 64-bit ('base')",
   "language": "python",
   "name": "python37364bitbase6782713bed674ed7a26121bd52530782"
  },
  "language_info": {
   "codemirror_mode": {
    "name": "ipython",
    "version": 3
   },
   "file_extension": ".py",
   "mimetype": "text/x-python",
   "name": "python",
   "nbconvert_exporter": "python",
   "pygments_lexer": "ipython3",
   "version": "3.7.1"
  }
 },
 "nbformat": 4,
 "nbformat_minor": 5
}
