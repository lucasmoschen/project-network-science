{
 "cells": [
  {
   "cell_type": "markdown",
   "id": "284a7f6a-581c-4d94-a354-82411a5149d9",
   "metadata": {},
   "source": [
    "# Brazilian Chamber of Deputies \n",
    "\n",
    "The Open Data from Chamber service provides a collection of features that allow direct access to legislative data produced in the Chamber of Deputies, such as data on deputies, legislative bodies, proposals, plenary sessions, and committee meetings. \n",
    "\n",
    "There are two different ways to obtain this data. \n",
    "\n",
    "1. Through the available API, with `DadosAbertosBrasil` package developed by Gustavo Furtado or directly with `requests` package. \n",
    "\n",
    "2. Download `json` or `csv` formats from the website. \n",
    "\n",
    "Open data API website: https://dadosabertos.camara.leg.br/swagger/api.html#api\n",
    "\n",
    "`DadosAbertosBrasil` package website: https://www.gustavofurtado.com/DadosAbertosBrasil/camara.html#documentacao-da-api-original\n",
    "\n",
    "If necessary, install it.  "
   ]
  },
  {
   "cell_type": "raw",
   "id": "14ba5e3a-7d84-41b0-bd53-51137fca660f",
   "metadata": {},
   "source": [
    "!pip install DadosAbertosBrasil"
   ]
  },
  {
   "cell_type": "code",
   "execution_count": 1,
   "id": "fcbdf0e5-c313-42bd-a1f5-3a36601bc681",
   "metadata": {},
   "outputs": [],
   "source": [
    "import pandas as pd\n",
    "import numpy as np\n",
    "from scipy.stats import chisquare\n",
    "import networkx as nx\n",
    "\n",
    "from DadosAbertosBrasil import camara\n",
    "\n",
    "import matplotlib.pyplot as plt\n",
    "import seaborn as sns\n",
    "sns.set()\n",
    "\n",
    "import json\n",
    "import time, tqdm\n",
    "import requests"
   ]
  },
  {
   "cell_type": "markdown",
   "id": "22f72f0a-ac4b-436e-9358-4819236a9e90",
   "metadata": {},
   "source": [
    "## Notebook settings "
   ]
  },
  {
   "cell_type": "code",
   "execution_count": 2,
   "id": "8532504c-6092-42d3-a988-3295e4bf82b7",
   "metadata": {},
   "outputs": [],
   "source": [
    "api = \"https://dadosabertos.camara.leg.br/api/v2/\""
   ]
  },
  {
   "cell_type": "markdown",
   "id": "1751cfa3-8831-479f-a069-28bcff2eee10",
   "metadata": {},
   "source": [
    "## Party blocs (Blocos partidários)\n",
    "\n",
    "The parties can join party blocs to work with a single leader and the same vice-leaders, where there are common interests. The blocs can only exist until the end of the legislature in which they were created. Apparently, there is non enough data related to that. "
   ]
  },
  {
   "cell_type": "code",
   "execution_count": 4,
   "id": "00713c13-769f-4e2f-b0e2-9e840d604cce",
   "metadata": {},
   "outputs": [
    {
     "name": "stderr",
     "output_type": "stream",
     "text": [
      "100%|██████████| 56/56 [03:27<00:00,  3.71s/it]\n"
     ]
    }
   ],
   "source": [
    "text = ''\n",
    "\n",
    "for leg in tqdm.tqdm(range(1,57)):\n",
    "    blocks = camara.lista_blocos(legislatura=leg)\n",
    "    num = blocks.shape[0]\n",
    "    if num > 0: \n",
    "        text += \"Legislatura {} teve {} blocos partidários. \\n\\n\".format(leg,num)\n",
    "    time.sleep(3)"
   ]
  },
  {
   "cell_type": "code",
   "execution_count": 5,
   "id": "b5e711b6-2a8b-4a84-970f-0bea9b007ea6",
   "metadata": {},
   "outputs": [
    {
     "name": "stdout",
     "output_type": "stream",
     "text": [
      "Legislatura 54 teve 15 blocos partidários. \n",
      "\n",
      "Legislatura 55 teve 10 blocos partidários. \n",
      "\n",
      "Legislatura 56 teve 7 blocos partidários. \n",
      "\n",
      "\n"
     ]
    }
   ],
   "source": [
    "print(text)"
   ]
  },
  {
   "cell_type": "code",
   "execution_count": 12,
   "id": "77d1bcd6-aabf-49c5-948a-143bf9540254",
   "metadata": {},
   "outputs": [
    {
     "data": {
      "text/plain": [
       "{'id': '579',\n",
       " 'uri': 'https://dadosabertos.camara.leg.br/api/v2/blocos/579',\n",
       " 'nome': 'CIDADANIA, PV',\n",
       " 'idLegislatura': '56'}"
      ]
     },
     "execution_count": 12,
     "metadata": {},
     "output_type": "execute_result"
    }
   ],
   "source": [
    "camara.Bloco(cod = blocks.loc[0].id).dados"
   ]
  },
  {
   "cell_type": "markdown",
   "id": "620ecea7-2038-40fa-a437-633c98b092e5",
   "metadata": {},
   "source": [
    "## Deputies\n",
    "\n",
    "Basic data about deputies who have been in parliamentary exercise at some time interval."
   ]
  },
  {
   "cell_type": "code",
   "execution_count": 35,
   "id": "04b43057-85d1-4c7b-970a-244aebdd69b3",
   "metadata": {},
   "outputs": [],
   "source": [
    "deputies = camara.lista_deputados(legislatura=56)"
   ]
  },
  {
   "cell_type": "code",
   "execution_count": 43,
   "id": "b0d55144-cb38-43af-aa9b-ac094b664cdd",
   "metadata": {},
   "outputs": [
    {
     "data": {
      "text/plain": [
       "<AxesSubplot:>"
      ]
     },
     "execution_count": 43,
     "metadata": {},
     "output_type": "execute_result"
    },
    {
     "data": {
      "image/png": "[encoded data removed]",
      "text/plain": [
       "<Figure size 432x288 with 1 Axes>"
      ]
     },
     "metadata": {},
     "output_type": "display_data"
    }
   ],
   "source": [
    "deputies.siglaUf.value_counts().plot.bar()"
   ]
  },
  {
   "cell_type": "code",
   "execution_count": 78,
   "id": "bbcec323-9634-4d9e-92fc-fa1eeadcaeae",
   "metadata": {},
   "outputs": [
    {
     "name": "stderr",
     "output_type": "stream",
     "text": [
      "100%|██████████| 7/7 [00:30<00:00,  4.37s/it]\n"
     ]
    }
   ],
   "source": [
    "n = 7\n",
    "prop_years = np.zeros((3,n))\n",
    "prop_years[0,:] = range(57-n,57)\n",
    "\n",
    "for leg in tqdm.tqdm(prop_years[0,:].astype(int)): \n",
    "    \n",
    "    deputies_F = camara.lista_deputados(legislatura=leg, sexo='F')\n",
    "    deputies_M = camara.lista_deputados(legislatura=leg, sexo='M')\n",
    "    \n",
    "    prop_years[1,leg-50] = deputies_F.shape[0]/(deputies_F.shape[0]+deputies_M.shape[0])\n",
    "    prop_years[2,leg-50] = 1 - prop_years[1,leg-50]\n",
    "    \n",
    "    time.sleep(3)"
   ]
  },
  {
   "cell_type": "code",
   "execution_count": 83,
   "id": "2676b832-6d2f-43f3-ae7c-a7674a2a5922",
   "metadata": {},
   "outputs": [
    {
     "data": {
      "image/png": "[encoded data removed]",
      "text/plain": [
       "<Figure size 432x288 with 1 Axes>"
      ]
     },
     "metadata": {},
     "output_type": "display_data"
    }
   ],
   "source": [
    "plt.stackplot(prop_years[0,:],  prop_years[2,:], prop_years[1,:])\n",
    "plt.title('Proportion by sex in the chamber')\n",
    "plt.xlabel('Legislature')\n",
    "plt.show()"
   ]
  },
  {
   "cell_type": "code",
   "execution_count": 99,
   "id": "495ca76c-48cf-497b-a762-3ace1c43abf3",
   "metadata": {},
   "outputs": [
    {
     "name": "stderr",
     "output_type": "stream",
     "text": [
      "100%|██████████| 19/19 [01:02<00:00,  3.27s/it]\n"
     ]
    }
   ],
   "source": [
    "number_parties = []\n",
    "\n",
    "for leg in tqdm.tqdm(range(38,57)):\n",
    "    \n",
    "    parties_leg = camara.lista_deputados(legislatura=leg).siglaPartido.unique().shape[0]\n",
    "    number_parties.append(parties_leg)\n",
    "    \n",
    "    time.sleep(2)"
   ]
  },
  {
   "cell_type": "code",
   "execution_count": 105,
   "id": "cebea22e-4f1e-40a8-ba28-76070b2cd1fa",
   "metadata": {},
   "outputs": [
    {
     "data": {
      "image/png": "[encoded data removed]",
      "text/plain": [
       "<Figure size 432x288 with 1 Axes>"
      ]
     },
     "metadata": {},
     "output_type": "display_data"
    }
   ],
   "source": [
    "plt.plot(range(38,57), number_parties)\n",
    "plt.axvline(42, color = 'red', alpha = 0.5, linestyle = '--', label = 'Dictatorship period')\n",
    "plt.axvline(47, color = 'red', alpha = 0.5, linestyle = '--')\n",
    "plt.xlabel('Legislature')\n",
    "plt.title('Number of (elected) parties per legislature')\n",
    "plt.legend()\n",
    "plt.show()"
   ]
  },
  {
   "cell_type": "code",
   "execution_count": 122,
   "id": "7bac33ce-7890-40a6-bc83-86e40aa7239c",
   "metadata": {},
   "outputs": [],
   "source": [
    "dep = camara.Deputado(cod=deputies.sample().iloc[0].id)"
   ]
  },
  {
   "cell_type": "code",
   "execution_count": 123,
   "id": "9fb7c400-9dda-49f0-9d33-cba6cc2d152e",
   "metadata": {},
   "outputs": [
    {
     "data": {
      "text/plain": [
       "{'id': 133968,\n",
       " 'uri': 'https://dadosabertos.camara.leg.br/api/v2/deputados/133968',\n",
       " 'nomeCivil': 'Paulo Sérgio Ramos Barboza',\n",
       " 'ultimoStatus': {'id': 133968,\n",
       "  'uri': 'https://dadosabertos.camara.leg.br/api/v2/deputados/133968',\n",
       "  'nome': 'Paulo Ramos',\n",
       "  'siglaPartido': 'PDT',\n",
       "  'uriPartido': 'https://dadosabertos.camara.leg.br/api/v2/partidos/36786',\n",
       "  'siglaUf': 'RJ',\n",
       "  'idLegislatura': 56,\n",
       "  'urlFoto': 'https://www.camara.leg.br/internet/deputado/bandep/133968.jpg',\n",
       "  'email': 'dep.pauloramos@camara.leg.br',\n",
       "  'data': '2019-02-01T11:45',\n",
       "  'nomeEleitoral': 'Paulo Ramos',\n",
       "  'gabinete': {'nome': '804',\n",
       "   'predio': '4',\n",
       "   'sala': '804',\n",
       "   'andar': '8',\n",
       "   'telefone': '3215-5804',\n",
       "   'email': 'dep.pauloramos@camara.leg.br'},\n",
       "  'situacao': 'Exercício',\n",
       "  'condicaoEleitoral': 'Titular',\n",
       "  'descricaoStatus': None},\n",
       " 'cpf': '03273970715',\n",
       " 'sexo': 'M',\n",
       " 'urlWebsite': None,\n",
       " 'redeSocial': ['deppauloramosrj',\n",
       "  'deputadopauloramosrj',\n",
       "  'deputadopauloramosrj',\n",
       "  'deputado_pauloramos'],\n",
       " 'dataNascimento': '1944-10-18',\n",
       " 'dataFalecimento': None,\n",
       " 'ufNascimento': 'RJ',\n",
       " 'municipioNascimento': 'Rio de Janeiro',\n",
       " 'escolaridade': 'Superior'}"
      ]
     },
     "execution_count": 123,
     "metadata": {},
     "output_type": "execute_result"
    }
   ],
   "source": [
    "dep.dados"
   ]
  },
  {
   "cell_type": "code",
   "execution_count": 164,
   "id": "0dbc24d3-c028-4aaf-b23e-0abb7ee55682",
   "metadata": {},
   "outputs": [
    {
     "name": "stderr",
     "output_type": "stream",
     "text": [
      "100%|██████████| 588/588 [17:54<00:00,  1.83s/it]\n"
     ]
    }
   ],
   "source": [
    "deputies['expenses'] = 0\n",
    "expenses_deputies = []\n",
    "\n",
    "for deputy in tqdm.tqdm(deputies.id):\n",
    "    dep = camara.Deputado(cod=deputy)\n",
    "    pag = 1\n",
    "    total_expenses = 0\n",
    "    while True:\n",
    "        \n",
    "        while True: \n",
    "            try: \n",
    "                expenses = dep.despesas(ano=2021, itens=100, pagina=pag)\n",
    "                break\n",
    "            except: \n",
    "                time.sleep(10)\n",
    "                \n",
    "        if expenses.shape[0] == 0: \n",
    "            break\n",
    "            \n",
    "        total_expenses += expenses.valorDocumento.sum()\n",
    "        pag+=1\n",
    "        \n",
    "    expenses_deputies.append(total_expenses)"
   ]
  },
  {
   "cell_type": "code",
   "execution_count": 177,
   "id": "bc296168-4faf-4dad-aa12-fb12e2e40484",
   "metadata": {},
   "outputs": [
    {
     "data": {
      "image/png": "[encoded data removed]",
      "text/plain": [
       "<Figure size 432x288 with 1 Axes>"
      ]
     },
     "metadata": {},
     "output_type": "display_data"
    }
   ],
   "source": [
    "deputies['expenses'] = expenses_deputies\n",
    "\n",
    "deputies.groupby(by='siglaPartido').mean().sort_values(by='expenses', ascending=False).expenses.plot.bar()\n",
    "plt.title('Mean expense per party in 2021')\n",
    "plt.show()"
   ]
  },
  {
   "cell_type": "markdown",
   "id": "a83cab84-83f4-4b54-913b-7ff9eb433206",
   "metadata": {},
   "source": [
    "We also have access to the deputies' speeches."
   ]
  },
  {
   "cell_type": "code",
   "execution_count": 202,
   "id": "1093f560-bf1b-40df-bc9b-fc2e7268e619",
   "metadata": {},
   "outputs": [
    {
     "name": "stdout",
     "output_type": "stream",
     "text": [
      "O SR. TADEU FILIPPELLI (MDB - DF. Pela ordem. Sem revisão do orador.) - O MDB vota \"não\", Sr. Presidente.\n",
      "É importante entender esta MP. Na verdade, todo o sistema de segurança dos ex-Territórios é regido constitucionalmente por leis federais e fica ausente de qualquer tipo de política de aumento ou de retribuição dos seus Estados. Portanto, é fundamental que a aprovemos hoje, em função inclusive do prazo, que está expirando.\n"
     ]
    }
   ],
   "source": [
    "dep = camara.Deputado(cod=deputies.sample().iloc[0].id)\n",
    "print(dep.discursos(legislatura=56).transcricao.loc[0])"
   ]
  },
  {
   "cell_type": "markdown",
   "id": "545fec7c-5fc5-4d31-8e15-817df344d0ad",
   "metadata": {},
   "source": [
    "## Events\n",
    "\n",
    "Events of Legislative Organs of the Chamber, foreseen or that have already taken place, in a certain period of time."
   ]
  },
  {
   "cell_type": "code",
   "execution_count": 237,
   "id": "81286823-87fd-47bf-8cfd-5286d81f8dbd",
   "metadata": {},
   "outputs": [],
   "source": [
    "events = camara.lista_eventos(inicio='2021-01-01', fim='2021-06-30', itens=100)"
   ]
  },
  {
   "cell_type": "code",
   "execution_count": 249,
   "id": "a75adaef-4046-4aa0-a7e0-5a8a21b12081",
   "metadata": {},
   "outputs": [
    {
     "data": {
      "text/plain": [
       "{'uriDeputados': None,\n",
       " 'uriConvidados': None,\n",
       " 'fases': None,\n",
       " 'id': 60268,\n",
       " 'uri': 'https://dadosabertos.camara.leg.br/api/v2/eventos/60268',\n",
       " 'dataHoraInicio': '2021-02-09T15:00',\n",
       " 'dataHoraFim': '2021-02-09T21:30',\n",
       " 'situacao': 'Encerrada (Final)',\n",
       " 'descricaoTipo': 'Sessão Deliberativa',\n",
       " 'descricao': 'Sessão Deliberativa Extraordinária (virtual)\\r\\n',\n",
       " 'localExterno': None,\n",
       " 'orgaos': [{'id': 180,\n",
       "   'uri': 'https://dadosabertos.camara.leg.br/api/v2/orgaos/180',\n",
       "   'sigla': 'PLEN',\n",
       "   'nome': 'Plenário',\n",
       "   'apelido': 'Plenário',\n",
       "   'codTipoOrgao': 26,\n",
       "   'tipoOrgao': 'Plenário Virtual',\n",
       "   'nomePublicacao': 'Plenário'}],\n",
       " 'requerimentos': [],\n",
       " 'localCamara': {'nome': 'Plenário da Câmara dos Deputados',\n",
       "  'predio': None,\n",
       "  'sala': None,\n",
       "  'andar': None},\n",
       " 'urlDocumentoPauta': 'https://dadosabertos.camara.leg.br/api/v2/eventos/60268/pauta',\n",
       " 'urlRegistro': 'https://www.youtube.com/watch?v=Jazms1VEHs4'}"
      ]
     },
     "execution_count": 249,
     "metadata": {},
     "output_type": "execute_result"
    }
   ],
   "source": [
    "camara.Evento(cod=events.loc[16].id).dados"
   ]
  },
  {
   "cell_type": "markdown",
   "id": "f69f2f40-5299-4604-96e8-907f70bf930a",
   "metadata": {},
   "source": [
    "Below we see the votings related to the event above."
   ]
  },
  {
   "cell_type": "code",
   "execution_count": 250,
   "id": "637ab9ec-7618-4293-bb6e-df5761d5196a",
   "metadata": {},
   "outputs": [
    {
     "data": {
      "text/html": [
       "<div>\n",
       "<style scoped>\n",
       "    .dataframe tbody tr th:only-of-type {\n",
       "        vertical-align: middle;\n",
       "    }\n",
       "\n",
       "    .dataframe tbody tr th {\n",
       "        vertical-align: top;\n",
       "    }\n",
       "\n",
       "    .dataframe thead th {\n",
       "        text-align: right;\n",
       "    }\n",
       "</style>\n",
       "<table border=\"1\" class=\"dataframe\">\n",
       "  <thead>\n",
       "    <tr style=\"text-align: right;\">\n",
       "      <th></th>\n",
       "      <th>id</th>\n",
       "      <th>uri</th>\n",
       "      <th>data</th>\n",
       "      <th>dataHoraRegistro</th>\n",
       "      <th>siglaOrgao</th>\n",
       "      <th>uriOrgao</th>\n",
       "      <th>uriEvento</th>\n",
       "      <th>proposicaoObjeto</th>\n",
       "      <th>uriProposicaoObjeto</th>\n",
       "      <th>descricao</th>\n",
       "      <th>aprovacao</th>\n",
       "    </tr>\n",
       "  </thead>\n",
       "  <tbody>\n",
       "    <tr>\n",
       "      <th>0</th>\n",
       "      <td>2265124-39</td>\n",
       "      <td>https://dadosabertos.camara.leg.br/api/v2/vota...</td>\n",
       "      <td>2021-02-09</td>\n",
       "      <td>2021-02-09T19:24:45</td>\n",
       "      <td>PLEN</td>\n",
       "      <td>https://dadosabertos.camara.leg.br/api/v2/orga...</td>\n",
       "      <td>https://dadosabertos.camara.leg.br/api/v2/even...</td>\n",
       "      <td>None</td>\n",
       "      <td>None</td>\n",
       "      <td>Rejeitado o Requerimento. Sim: 93; não: 308; t...</td>\n",
       "      <td>0</td>\n",
       "    </tr>\n",
       "    <tr>\n",
       "      <th>1</th>\n",
       "      <td>2265124-34</td>\n",
       "      <td>https://dadosabertos.camara.leg.br/api/v2/vota...</td>\n",
       "      <td>2021-02-09</td>\n",
       "      <td>2021-02-09T19:06:06</td>\n",
       "      <td>PLEN</td>\n",
       "      <td>https://dadosabertos.camara.leg.br/api/v2/orga...</td>\n",
       "      <td>https://dadosabertos.camara.leg.br/api/v2/even...</td>\n",
       "      <td>None</td>\n",
       "      <td>None</td>\n",
       "      <td>Rejeitado o Requerimento. Sim: 101; não: 287; ...</td>\n",
       "      <td>0</td>\n",
       "    </tr>\n",
       "    <tr>\n",
       "      <th>2</th>\n",
       "      <td>2269481-8</td>\n",
       "      <td>https://dadosabertos.camara.leg.br/api/v2/vota...</td>\n",
       "      <td>2021-02-09</td>\n",
       "      <td>2021-02-09T18:09:42</td>\n",
       "      <td>PLEN</td>\n",
       "      <td>https://dadosabertos.camara.leg.br/api/v2/orga...</td>\n",
       "      <td>https://dadosabertos.camara.leg.br/api/v2/even...</td>\n",
       "      <td>REQ 79/2021</td>\n",
       "      <td>https://dadosabertos.camara.leg.br/api/v2/prop...</td>\n",
       "      <td>Aprovado o Requerimento de Urgência (Art. 155 ...</td>\n",
       "      <td>1</td>\n",
       "    </tr>\n",
       "    <tr>\n",
       "      <th>3</th>\n",
       "      <td>2269480-8</td>\n",
       "      <td>https://dadosabertos.camara.leg.br/api/v2/vota...</td>\n",
       "      <td>2021-02-09</td>\n",
       "      <td>2021-02-09T16:32:45</td>\n",
       "      <td>PLEN</td>\n",
       "      <td>https://dadosabertos.camara.leg.br/api/v2/orga...</td>\n",
       "      <td>https://dadosabertos.camara.leg.br/api/v2/even...</td>\n",
       "      <td>REQ 78/2021</td>\n",
       "      <td>https://dadosabertos.camara.leg.br/api/v2/prop...</td>\n",
       "      <td>Aprovado o Requerimento de Urgência (Art. 155 ...</td>\n",
       "      <td>1</td>\n",
       "    </tr>\n",
       "    <tr>\n",
       "      <th>4</th>\n",
       "      <td>2269049-8</td>\n",
       "      <td>https://dadosabertos.camara.leg.br/api/v2/vota...</td>\n",
       "      <td>2021-02-09</td>\n",
       "      <td>2021-02-09T16:03:11</td>\n",
       "      <td>PLEN</td>\n",
       "      <td>https://dadosabertos.camara.leg.br/api/v2/orga...</td>\n",
       "      <td>https://dadosabertos.camara.leg.br/api/v2/even...</td>\n",
       "      <td>REQ 57/2021</td>\n",
       "      <td>https://dadosabertos.camara.leg.br/api/v2/prop...</td>\n",
       "      <td>Aprovado o Requerimento de Urgência (Art. 155 ...</td>\n",
       "      <td>1</td>\n",
       "    </tr>\n",
       "  </tbody>\n",
       "</table>\n",
       "</div>"
      ],
      "text/plain": [
       "           id                                                uri        data  \\\n",
       "0  2265124-39  https://dadosabertos.camara.leg.br/api/v2/vota...  2021-02-09   \n",
       "1  2265124-34  https://dadosabertos.camara.leg.br/api/v2/vota...  2021-02-09   \n",
       "2   2269481-8  https://dadosabertos.camara.leg.br/api/v2/vota...  2021-02-09   \n",
       "3   2269480-8  https://dadosabertos.camara.leg.br/api/v2/vota...  2021-02-09   \n",
       "4   2269049-8  https://dadosabertos.camara.leg.br/api/v2/vota...  2021-02-09   \n",
       "\n",
       "      dataHoraRegistro siglaOrgao  \\\n",
       "0  2021-02-09T19:24:45       PLEN   \n",
       "1  2021-02-09T19:06:06       PLEN   \n",
       "2  2021-02-09T18:09:42       PLEN   \n",
       "3  2021-02-09T16:32:45       PLEN   \n",
       "4  2021-02-09T16:03:11       PLEN   \n",
       "\n",
       "                                            uriOrgao  \\\n",
       "0  https://dadosabertos.camara.leg.br/api/v2/orga...   \n",
       "1  https://dadosabertos.camara.leg.br/api/v2/orga...   \n",
       "2  https://dadosabertos.camara.leg.br/api/v2/orga...   \n",
       "3  https://dadosabertos.camara.leg.br/api/v2/orga...   \n",
       "4  https://dadosabertos.camara.leg.br/api/v2/orga...   \n",
       "\n",
       "                                           uriEvento proposicaoObjeto  \\\n",
       "0  https://dadosabertos.camara.leg.br/api/v2/even...             None   \n",
       "1  https://dadosabertos.camara.leg.br/api/v2/even...             None   \n",
       "2  https://dadosabertos.camara.leg.br/api/v2/even...      REQ 79/2021   \n",
       "3  https://dadosabertos.camara.leg.br/api/v2/even...      REQ 78/2021   \n",
       "4  https://dadosabertos.camara.leg.br/api/v2/even...      REQ 57/2021   \n",
       "\n",
       "                                 uriProposicaoObjeto  \\\n",
       "0                                               None   \n",
       "1                                               None   \n",
       "2  https://dadosabertos.camara.leg.br/api/v2/prop...   \n",
       "3  https://dadosabertos.camara.leg.br/api/v2/prop...   \n",
       "4  https://dadosabertos.camara.leg.br/api/v2/prop...   \n",
       "\n",
       "                                           descricao  aprovacao  \n",
       "0  Rejeitado o Requerimento. Sim: 93; não: 308; t...          0  \n",
       "1  Rejeitado o Requerimento. Sim: 101; não: 287; ...          0  \n",
       "2  Aprovado o Requerimento de Urgência (Art. 155 ...          1  \n",
       "3  Aprovado o Requerimento de Urgência (Art. 155 ...          1  \n",
       "4  Aprovado o Requerimento de Urgência (Art. 155 ...          1  "
      ]
     },
     "execution_count": 250,
     "metadata": {},
     "output_type": "execute_result"
    }
   ],
   "source": [
    "camara.Evento(cod=events.loc[16].id).votacoes()"
   ]
  },
  {
   "cell_type": "markdown",
   "id": "ce8985d7-dad5-4190-adbb-8be14327bc04",
   "metadata": {},
   "source": [
    "## Parliamentary fronts\n",
    "\n",
    "Official grouping of parliamentarians around a particular topic or proposal. The fronts exist until the end of the legislature in which they were created, and can be recreated in each legislature. Data since the 52nd legislature. "
   ]
  },
  {
   "cell_type": "code",
   "execution_count": 275,
   "id": "c14cecff-8121-4e5a-8dbe-06bfcc3efa14",
   "metadata": {},
   "outputs": [
    {
     "data": {
      "text/html": [
       "<div>\n",
       "<style scoped>\n",
       "    .dataframe tbody tr th:only-of-type {\n",
       "        vertical-align: middle;\n",
       "    }\n",
       "\n",
       "    .dataframe tbody tr th {\n",
       "        vertical-align: top;\n",
       "    }\n",
       "\n",
       "    .dataframe thead th {\n",
       "        text-align: right;\n",
       "    }\n",
       "</style>\n",
       "<table border=\"1\" class=\"dataframe\">\n",
       "  <thead>\n",
       "    <tr style=\"text-align: right;\">\n",
       "      <th></th>\n",
       "      <th>id</th>\n",
       "      <th>uri</th>\n",
       "      <th>titulo</th>\n",
       "      <th>idLegislatura</th>\n",
       "    </tr>\n",
       "  </thead>\n",
       "  <tbody>\n",
       "    <tr>\n",
       "      <th>25</th>\n",
       "      <td>54238</td>\n",
       "      <td>https://dadosabertos.camara.leg.br/api/v2/fren...</td>\n",
       "      <td>Frente Parlamentar Mista da Inteligência Artif...</td>\n",
       "      <td>56</td>\n",
       "    </tr>\n",
       "    <tr>\n",
       "      <th>492</th>\n",
       "      <td>53659</td>\n",
       "      <td>https://dadosabertos.camara.leg.br/api/v2/fren...</td>\n",
       "      <td>Frente Parlamentar Mista em Defesa dos Serviço...</td>\n",
       "      <td>55</td>\n",
       "    </tr>\n",
       "    <tr>\n",
       "      <th>380</th>\n",
       "      <td>53802</td>\n",
       "      <td>https://dadosabertos.camara.leg.br/api/v2/fren...</td>\n",
       "      <td>Frente Parlamentar Mista do Imposto Único Federal</td>\n",
       "      <td>55</td>\n",
       "    </tr>\n",
       "    <tr>\n",
       "      <th>495</th>\n",
       "      <td>53662</td>\n",
       "      <td>https://dadosabertos.camara.leg.br/api/v2/fren...</td>\n",
       "      <td>Frente Parlamentar em Defesa da Redução do Pre...</td>\n",
       "      <td>55</td>\n",
       "    </tr>\n",
       "    <tr>\n",
       "      <th>531</th>\n",
       "      <td>53617</td>\n",
       "      <td>https://dadosabertos.camara.leg.br/api/v2/fren...</td>\n",
       "      <td>Frente Parlamentar Mista em Defesa dos setores...</td>\n",
       "      <td>55</td>\n",
       "    </tr>\n",
       "  </tbody>\n",
       "</table>\n",
       "</div>"
      ],
      "text/plain": [
       "        id                                                uri  \\\n",
       "25   54238  https://dadosabertos.camara.leg.br/api/v2/fren...   \n",
       "492  53659  https://dadosabertos.camara.leg.br/api/v2/fren...   \n",
       "380  53802  https://dadosabertos.camara.leg.br/api/v2/fren...   \n",
       "495  53662  https://dadosabertos.camara.leg.br/api/v2/fren...   \n",
       "531  53617  https://dadosabertos.camara.leg.br/api/v2/fren...   \n",
       "\n",
       "                                                titulo  idLegislatura  \n",
       "25   Frente Parlamentar Mista da Inteligência Artif...             56  \n",
       "492  Frente Parlamentar Mista em Defesa dos Serviço...             55  \n",
       "380  Frente Parlamentar Mista do Imposto Único Federal             55  \n",
       "495  Frente Parlamentar em Defesa da Redução do Pre...             55  \n",
       "531  Frente Parlamentar Mista em Defesa dos setores...             55  "
      ]
     },
     "execution_count": 275,
     "metadata": {},
     "output_type": "execute_result"
    }
   ],
   "source": [
    "fronts = camara.lista_frentes(pagina=1).append(camara.lista_frentes(pagina=2)).reset_index(drop=True)\n",
    "fronts.sample(5)"
   ]
  },
  {
   "cell_type": "code",
   "execution_count": 279,
   "id": "b3d24bf6-83e8-4aba-92b2-2faf0df5bb26",
   "metadata": {},
   "outputs": [
    {
     "data": {
      "image/png": "[encoded data removed]",
      "text/plain": [
       "<Figure size 432x288 with 1 Axes>"
      ]
     },
     "metadata": {},
     "output_type": "display_data"
    }
   ],
   "source": [
    "fronts.groupby(by='idLegislatura').count().id.plot.bar()\n",
    "plt.show()"
   ]
  },
  {
   "cell_type": "code",
   "execution_count": 286,
   "id": "e57a46b2-82f3-4a92-96ab-9944b2e9f106",
   "metadata": {},
   "outputs": [
    {
     "data": {
      "text/plain": [
       "{'id': 53950,\n",
       " 'uri': 'https://dadosabertos.camara.leg.br/api/v2/frentes/53950',\n",
       " 'titulo': 'Frente Parlamentar Mista de Apoio a Produção e Industrialização de Pescado',\n",
       " 'idLegislatura': 56,\n",
       " 'telefone': '3215 5710',\n",
       " 'email': None,\n",
       " 'keywords': None,\n",
       " 'idSituacao': None,\n",
       " 'situacao': '14/03/2019 - Recebidos o REQ 755/2019, a Ata, o Estatuto e as adesões.\\r\\n14/03/2019 - Encaminhado ao SEPRO para conferência de assinaturas.\\r\\n18/03/2019 - Confirmadas 190 assinaturas de Deputados. Há Senadores. \\r\\n18/03/2019 - Of. 96/2019/SGM encaminhado ao Senado para conferência de assinaturas dos Senadores.\\r\\n20/03/2019 - Recebido o OF 16/2019, solicitando alteração do nome da \"Frente Parlamentar Mista de Apoio a Produção e Industrialização de Pescado\" para \"Frente Parlamentar Mista de Apoio a Produção e Industrialização de Pescado, à Pesca Ornamental e Esportiva\". À NAJUR, para análise.\\r\\n26/03/2019 - Confirmadas 20 adesões de Senadores, totalizando 210 assinaturas. \\r\\n26/03/2019 - Vai à publicação.',\n",
       " 'urlWebsite': None,\n",
       " 'urlDocumento': 'https://www.camara.leg.br/internet/deputado/Frente_Parlamentar/63185-integra.pdf',\n",
       " 'coordenador': {'id': 141408,\n",
       "  'uri': 'https://dadosabertos.camara.leg.br/api/v2/deputados/141408',\n",
       "  'nome': 'Cleber Verde',\n",
       "  'siglaPartido': 'REPUBLICANOS',\n",
       "  'uriPartido': 'https://dadosabertos.camara.leg.br/api/v2/partidos/37908',\n",
       "  'siglaUf': 'MA',\n",
       "  'idLegislatura': 56,\n",
       "  'urlFoto': 'https://www.camara.leg.br/internet/deputado/bandep/141408.jpg',\n",
       "  'email': None}}"
      ]
     },
     "execution_count": 286,
     "metadata": {},
     "output_type": "execute_result"
    }
   ],
   "source": [
    "front = camara.Frente(cod=fronts.sample().iloc[0].id)\n",
    "front.dados"
   ]
  },
  {
   "cell_type": "code",
   "execution_count": 290,
   "id": "01e96f76-7624-4f77-a8d7-b97feb88cbea",
   "metadata": {},
   "outputs": [
    {
     "data": {
      "text/html": [
       "<div>\n",
       "<style scoped>\n",
       "    .dataframe tbody tr th:only-of-type {\n",
       "        vertical-align: middle;\n",
       "    }\n",
       "\n",
       "    .dataframe tbody tr th {\n",
       "        vertical-align: top;\n",
       "    }\n",
       "\n",
       "    .dataframe thead th {\n",
       "        text-align: right;\n",
       "    }\n",
       "</style>\n",
       "<table border=\"1\" class=\"dataframe\">\n",
       "  <thead>\n",
       "    <tr style=\"text-align: right;\">\n",
       "      <th></th>\n",
       "      <th>id</th>\n",
       "      <th>uri</th>\n",
       "      <th>nome</th>\n",
       "      <th>siglaPartido</th>\n",
       "      <th>uriPartido</th>\n",
       "      <th>siglaUf</th>\n",
       "      <th>idLegislatura</th>\n",
       "      <th>urlFoto</th>\n",
       "      <th>email</th>\n",
       "      <th>titulo</th>\n",
       "      <th>codTitulo</th>\n",
       "      <th>dataInicio</th>\n",
       "      <th>dataFim</th>\n",
       "    </tr>\n",
       "  </thead>\n",
       "  <tbody>\n",
       "    <tr>\n",
       "      <th>95</th>\n",
       "      <td>178884</td>\n",
       "      <td>https://dadosabertos.camara.leg.br/api/v2/depu...</td>\n",
       "      <td>Hildo Rocha</td>\n",
       "      <td>MDB</td>\n",
       "      <td>https://dadosabertos.camara.leg.br/api/v2/part...</td>\n",
       "      <td>MA</td>\n",
       "      <td>56</td>\n",
       "      <td>https://www.camara.leg.br/internet/deputado/ba...</td>\n",
       "      <td>None</td>\n",
       "      <td>Membro</td>\n",
       "      <td>1004</td>\n",
       "      <td>None</td>\n",
       "      <td>None</td>\n",
       "    </tr>\n",
       "    <tr>\n",
       "      <th>143</th>\n",
       "      <td>204441</td>\n",
       "      <td>https://dadosabertos.camara.leg.br/api/v2/depu...</td>\n",
       "      <td>Otoni de Paula</td>\n",
       "      <td>PSC</td>\n",
       "      <td>https://dadosabertos.camara.leg.br/api/v2/part...</td>\n",
       "      <td>RJ</td>\n",
       "      <td>56</td>\n",
       "      <td>https://www.camara.leg.br/internet/deputado/ba...</td>\n",
       "      <td>None</td>\n",
       "      <td>Membro</td>\n",
       "      <td>1004</td>\n",
       "      <td>None</td>\n",
       "      <td>None</td>\n",
       "    </tr>\n",
       "    <tr>\n",
       "      <th>133</th>\n",
       "      <td>204384</td>\n",
       "      <td>https://dadosabertos.camara.leg.br/api/v2/depu...</td>\n",
       "      <td>Ney Leprevost</td>\n",
       "      <td>PSD</td>\n",
       "      <td>https://dadosabertos.camara.leg.br/api/v2/part...</td>\n",
       "      <td>PR</td>\n",
       "      <td>56</td>\n",
       "      <td>https://www.camara.leg.br/internet/deputado/ba...</td>\n",
       "      <td>None</td>\n",
       "      <td>Membro</td>\n",
       "      <td>1004</td>\n",
       "      <td>None</td>\n",
       "      <td>None</td>\n",
       "    </tr>\n",
       "    <tr>\n",
       "      <th>167</th>\n",
       "      <td>204520</td>\n",
       "      <td>https://dadosabertos.camara.leg.br/api/v2/depu...</td>\n",
       "      <td>Junio Amaral</td>\n",
       "      <td>PSL</td>\n",
       "      <td>https://dadosabertos.camara.leg.br/api/v2/part...</td>\n",
       "      <td>MG</td>\n",
       "      <td>56</td>\n",
       "      <td>https://www.camara.leg.br/internet/deputado/ba...</td>\n",
       "      <td>None</td>\n",
       "      <td>Membro</td>\n",
       "      <td>1004</td>\n",
       "      <td>None</td>\n",
       "      <td>None</td>\n",
       "    </tr>\n",
       "    <tr>\n",
       "      <th>136</th>\n",
       "      <td>204392</td>\n",
       "      <td>https://dadosabertos.camara.leg.br/api/v2/depu...</td>\n",
       "      <td>Francisco Jr.</td>\n",
       "      <td>PSD</td>\n",
       "      <td>https://dadosabertos.camara.leg.br/api/v2/part...</td>\n",
       "      <td>GO</td>\n",
       "      <td>56</td>\n",
       "      <td>https://www.camara.leg.br/internet/deputado/ba...</td>\n",
       "      <td>None</td>\n",
       "      <td>Membro</td>\n",
       "      <td>1004</td>\n",
       "      <td>None</td>\n",
       "      <td>None</td>\n",
       "    </tr>\n",
       "  </tbody>\n",
       "</table>\n",
       "</div>"
      ],
      "text/plain": [
       "         id                                                uri  \\\n",
       "95   178884  https://dadosabertos.camara.leg.br/api/v2/depu...   \n",
       "143  204441  https://dadosabertos.camara.leg.br/api/v2/depu...   \n",
       "133  204384  https://dadosabertos.camara.leg.br/api/v2/depu...   \n",
       "167  204520  https://dadosabertos.camara.leg.br/api/v2/depu...   \n",
       "136  204392  https://dadosabertos.camara.leg.br/api/v2/depu...   \n",
       "\n",
       "               nome siglaPartido  \\\n",
       "95      Hildo Rocha          MDB   \n",
       "143  Otoni de Paula          PSC   \n",
       "133   Ney Leprevost          PSD   \n",
       "167    Junio Amaral          PSL   \n",
       "136   Francisco Jr.          PSD   \n",
       "\n",
       "                                            uriPartido siglaUf  idLegislatura  \\\n",
       "95   https://dadosabertos.camara.leg.br/api/v2/part...      MA             56   \n",
       "143  https://dadosabertos.camara.leg.br/api/v2/part...      RJ             56   \n",
       "133  https://dadosabertos.camara.leg.br/api/v2/part...      PR             56   \n",
       "167  https://dadosabertos.camara.leg.br/api/v2/part...      MG             56   \n",
       "136  https://dadosabertos.camara.leg.br/api/v2/part...      GO             56   \n",
       "\n",
       "                                               urlFoto email  titulo  \\\n",
       "95   https://www.camara.leg.br/internet/deputado/ba...  None  Membro   \n",
       "143  https://www.camara.leg.br/internet/deputado/ba...  None  Membro   \n",
       "133  https://www.camara.leg.br/internet/deputado/ba...  None  Membro   \n",
       "167  https://www.camara.leg.br/internet/deputado/ba...  None  Membro   \n",
       "136  https://www.camara.leg.br/internet/deputado/ba...  None  Membro   \n",
       "\n",
       "     codTitulo dataInicio dataFim  \n",
       "95        1004       None    None  \n",
       "143       1004       None    None  \n",
       "133       1004       None    None  \n",
       "167       1004       None    None  \n",
       "136       1004       None    None  "
      ]
     },
     "execution_count": 290,
     "metadata": {},
     "output_type": "execute_result"
    }
   ],
   "source": [
    "front.membros().sample(5)"
   ]
  },
  {
   "cell_type": "code",
   "execution_count": 305,
   "id": "0baf1f42-2aec-4a61-a293-a6cdd0d5ec5c",
   "metadata": {},
   "outputs": [
    {
     "name": "stderr",
     "output_type": "stream",
     "text": [
      "100%|██████████| 100/100 [09:37<00:00,  5.77s/it]\n"
     ]
    }
   ],
   "source": [
    "member_distribution = []\n",
    "\n",
    "for i in tqdm.tqdm(range(100)):\n",
    "    \n",
    "    for i in range(5):        \n",
    "        try:     \n",
    "            members = camara.Frente(cod=fronts.sample().iloc[0].id).membros().shape[0]\n",
    "            break\n",
    "        except: \n",
    "            time.sleep(10)\n",
    "    \n",
    "    member_distribution.append(members)"
   ]
  },
  {
   "cell_type": "code",
   "execution_count": 308,
   "id": "0f64a5be-daf6-4064-8d26-4aee6d6bda85",
   "metadata": {},
   "outputs": [
    {
     "data": {
      "image/png": "[encoded data removed]",
      "text/plain": [
       "<Figure size 432x288 with 1 Axes>"
      ]
     },
     "metadata": {},
     "output_type": "display_data"
    }
   ],
   "source": [
    "plt.hist(member_distribution)\n",
    "plt.title('Approximated distribution of number of members in fronts')\n",
    "plt.show()"
   ]
  },
  {
   "cell_type": "markdown",
   "id": "d5231645-59c4-4fbc-9161-4312d2e76c6f",
   "metadata": {},
   "source": [
    "## Propositions\n",
    "\n",
    "Bills, resolutions, provisional measures, amendments, opinions and all other types of proposals in the Chamber."
   ]
  },
  {
   "cell_type": "code",
   "execution_count": 25,
   "id": "e4d162d5-4a52-4914-8143-9e7ee0db379e",
   "metadata": {},
   "outputs": [
    {
     "name": "stderr",
     "output_type": "stream",
     "text": [
      "100%|██████████| 29/29 [05:37<00:00, 11.64s/it]\n"
     ]
    }
   ],
   "source": [
    "number_props = []\n",
    "\n",
    "for year in tqdm.tqdm(range(1993,2022)):\n",
    "    \n",
    "    while True: \n",
    "        try: \n",
    "            text = requests.get(api+\"proposicoes?ano={}&itens=100\".format(year))\n",
    "            break\n",
    "        except: \n",
    "            time.sleep(10)\n",
    "\n",
    "    pagina = text.json()['links'][-1]['href'].find('pagina=')\n",
    "    itens = text.json()['links'][-1]['href'].find('&itens=')\n",
    "    \n",
    "    last_page = int(text.json()['links'][-1]['href'][pagina+7:itens])\n",
    "    \n",
    "    while True: \n",
    "        try: \n",
    "            prop = camara.lista_proposicoes(ano=year, itens=100, pagina=last_page)\n",
    "            break\n",
    "        except: \n",
    "            time.sleep(10)\n",
    "    \n",
    "    number_props.append((last_page-1)*100+prop.shape[0])"
   ]
  },
  {
   "cell_type": "code",
   "execution_count": 55,
   "id": "e38a37af-ea0f-44e6-95b4-ecbf9b0b7203",
   "metadata": {},
   "outputs": [
    {
     "data": {
      "image/png": "[encoded data removed]",
      "text/plain": [
       "<Figure size 432x288 with 1 Axes>"
      ]
     },
     "metadata": {
      "needs_background": "light"
     },
     "output_type": "display_data"
    }
   ],
   "source": [
    "plt.bar(range(1993,2022), number_props, color = ['blue', 'red'] + (['blue']*3+['red'])*6 + ['blue']*3)\n",
    "plt.title('Number of propositions per year since 1993')\n",
    "plt.show()"
   ]
  },
  {
   "cell_type": "markdown",
   "id": "701f3578-8ecd-4fc4-84a9-64feb7521076",
   "metadata": {},
   "source": [
    "The last proposition "
   ]
  },
  {
   "cell_type": "code",
   "execution_count": 41,
   "id": "c4f5aaf6-b41c-4938-9dd5-a8365baabca0",
   "metadata": {},
   "outputs": [
    {
     "data": {
      "text/plain": [
       "'https://dadosabertos.camara.leg.br/api/v2/proposicoes?dataInicio=2021-01-01&dataFim=2021-03-31&pagina=136&itens=100'"
      ]
     },
     "execution_count": 41,
     "metadata": {},
     "output_type": "execute_result"
    }
   ],
   "source": [
    "requests.get(api+'proposicoes?itens=100&dataInicio=2021-01-01&dataFim=2021-03-31').json()['links'][-1]['href']"
   ]
  },
  {
   "cell_type": "code",
   "execution_count": 48,
   "id": "d23e2df7-9996-40b4-9d2a-a45b223062b8",
   "metadata": {},
   "outputs": [
    {
     "name": "stderr",
     "output_type": "stream",
     "text": [
      "100%|██████████| 135/135 [02:31<00:00,  1.12s/it]\n"
     ]
    }
   ],
   "source": [
    "propositions = camara.lista_proposicoes(itens=100, inicio='2021-01-01', fim='2021-03-31')\n",
    "\n",
    "for page in tqdm.tqdm(range(2,137)): \n",
    "    \n",
    "    while True: \n",
    "        try:\n",
    "            props = camara.lista_proposicoes(itens=100, inicio='2021-01-01', fim='2021-03-31', pagina=page)\n",
    "            break\n",
    "        except: \n",
    "            time.sleep(10)\n",
    "    \n",
    "    propositions = propositions.append(props).reset_index(drop=True)"
   ]
  },
  {
   "cell_type": "code",
   "execution_count": 62,
   "id": "ab1e8e5b-61f3-42b1-945c-cf44262296c4",
   "metadata": {},
   "outputs": [
    {
     "data": {
      "image/png": "[encoded data removed]",
      "text/plain": [
       "<Figure size 864x360 with 1 Axes>"
      ]
     },
     "metadata": {
      "needs_background": "light"
     },
     "output_type": "display_data"
    }
   ],
   "source": [
    "counts = propositions.groupby('siglaTipo').count().sort_values('id', ascending=False).id[0:20].plot.bar(figsize=(12,5))\n",
    "plt.title('Types of propositions in the first quarter of the year')\n",
    "plt.show()"
   ]
  },
  {
   "cell_type": "code",
   "execution_count": 76,
   "id": "ae80a689-692f-4b39-9192-31f11d8a3e9b",
   "metadata": {},
   "outputs": [],
   "source": [
    "#siglas = propositions.groupby('siglaTipo').count().sort_values('id', ascending=False).id[0:5]\n",
    "#camara.referencias('proposicoes').set_index('sigla').loc[siglas.index]"
   ]
  },
  {
   "cell_type": "code",
   "execution_count": 86,
   "id": "88bffca2-34dd-49f2-b7d7-2ff924a149f0",
   "metadata": {},
   "outputs": [
    {
     "data": {
      "text/html": [
       "<div>\n",
       "<style scoped>\n",
       "    .dataframe tbody tr th:only-of-type {\n",
       "        vertical-align: middle;\n",
       "    }\n",
       "\n",
       "    .dataframe tbody tr th {\n",
       "        vertical-align: top;\n",
       "    }\n",
       "\n",
       "    .dataframe thead th {\n",
       "        text-align: right;\n",
       "    }\n",
       "</style>\n",
       "<table border=\"1\" class=\"dataframe\">\n",
       "  <thead>\n",
       "    <tr style=\"text-align: right;\">\n",
       "      <th></th>\n",
       "      <th>id</th>\n",
       "      <th>uri</th>\n",
       "      <th>siglaTipo</th>\n",
       "      <th>codTipo</th>\n",
       "      <th>numero</th>\n",
       "      <th>ano</th>\n",
       "      <th>ementa</th>\n",
       "    </tr>\n",
       "  </thead>\n",
       "  <tbody>\n",
       "    <tr>\n",
       "      <th>0</th>\n",
       "      <td>2221504</td>\n",
       "      <td>https://dadosabertos.camara.leg.br/api/v2/prop...</td>\n",
       "      <td>PRL</td>\n",
       "      <td>190</td>\n",
       "      <td>3</td>\n",
       "      <td>0</td>\n",
       "      <td>Parecer da Relatora, Dep. Alê Silva (PSL-MG), ...</td>\n",
       "    </tr>\n",
       "    <tr>\n",
       "      <th>1</th>\n",
       "      <td>2115341</td>\n",
       "      <td>https://dadosabertos.camara.leg.br/api/v2/prop...</td>\n",
       "      <td>PAR</td>\n",
       "      <td>187</td>\n",
       "      <td>1</td>\n",
       "      <td>0</td>\n",
       "      <td>Aprovado o Parecer por unanimidade.. \\r\\nParec...</td>\n",
       "    </tr>\n",
       "    <tr>\n",
       "      <th>2</th>\n",
       "      <td>2091011</td>\n",
       "      <td>https://dadosabertos.camara.leg.br/api/v2/prop...</td>\n",
       "      <td>PRL</td>\n",
       "      <td>190</td>\n",
       "      <td>1</td>\n",
       "      <td>0</td>\n",
       "      <td>Parecer do Relator, Dep. Josué Bengtson (PTB-P...</td>\n",
       "    </tr>\n",
       "    <tr>\n",
       "      <th>3</th>\n",
       "      <td>2110725</td>\n",
       "      <td>https://dadosabertos.camara.leg.br/api/v2/prop...</td>\n",
       "      <td>PRL</td>\n",
       "      <td>190</td>\n",
       "      <td>2</td>\n",
       "      <td>0</td>\n",
       "      <td>Parecer do Relator, Dep. Josué Bengtson (pende...</td>\n",
       "    </tr>\n",
       "    <tr>\n",
       "      <th>4</th>\n",
       "      <td>2113408</td>\n",
       "      <td>https://dadosabertos.camara.leg.br/api/v2/prop...</td>\n",
       "      <td>PRL</td>\n",
       "      <td>190</td>\n",
       "      <td>3</td>\n",
       "      <td>0</td>\n",
       "      <td>Parecer do Relator, Dep. Josué Bengtson (PTB-P...</td>\n",
       "    </tr>\n",
       "    <tr>\n",
       "      <th>5</th>\n",
       "      <td>2208996</td>\n",
       "      <td>https://dadosabertos.camara.leg.br/api/v2/prop...</td>\n",
       "      <td>PAR</td>\n",
       "      <td>187</td>\n",
       "      <td>1</td>\n",
       "      <td>0</td>\n",
       "      <td>Aprovado o Parecer do Relator, Deputado Wellin...</td>\n",
       "    </tr>\n",
       "    <tr>\n",
       "      <th>6</th>\n",
       "      <td>2204948</td>\n",
       "      <td>https://dadosabertos.camara.leg.br/api/v2/prop...</td>\n",
       "      <td>PRL</td>\n",
       "      <td>190</td>\n",
       "      <td>2</td>\n",
       "      <td>0</td>\n",
       "      <td>Parecer do Relator, Dep. Wellington Roberto (P...</td>\n",
       "    </tr>\n",
       "    <tr>\n",
       "      <th>7</th>\n",
       "      <td>2204950</td>\n",
       "      <td>https://dadosabertos.camara.leg.br/api/v2/prop...</td>\n",
       "      <td>SBT</td>\n",
       "      <td>255</td>\n",
       "      <td>1</td>\n",
       "      <td>0</td>\n",
       "      <td>Torna obrigatória a contratação de seguro cont...</td>\n",
       "    </tr>\n",
       "    <tr>\n",
       "      <th>8</th>\n",
       "      <td>2053637</td>\n",
       "      <td>https://dadosabertos.camara.leg.br/api/v2/prop...</td>\n",
       "      <td>REQ</td>\n",
       "      <td>392</td>\n",
       "      <td>3514</td>\n",
       "      <td>2015</td>\n",
       "      <td>Requer urgência para apreciação do Projeto de ...</td>\n",
       "    </tr>\n",
       "    <tr>\n",
       "      <th>9</th>\n",
       "      <td>2056372</td>\n",
       "      <td>https://dadosabertos.camara.leg.br/api/v2/prop...</td>\n",
       "      <td>REQ</td>\n",
       "      <td>305</td>\n",
       "      <td>3606</td>\n",
       "      <td>2015</td>\n",
       "      <td>Requer a desapensação do Projeto de Lei nº 356...</td>\n",
       "    </tr>\n",
       "    <tr>\n",
       "      <th>10</th>\n",
       "      <td>2190976</td>\n",
       "      <td>https://dadosabertos.camara.leg.br/api/v2/prop...</td>\n",
       "      <td>REQ</td>\n",
       "      <td>521</td>\n",
       "      <td>111</td>\n",
       "      <td>2019</td>\n",
       "      <td>Requer a constituição de comissão especial par...</td>\n",
       "    </tr>\n",
       "    <tr>\n",
       "      <th>11</th>\n",
       "      <td>2191838</td>\n",
       "      <td>https://dadosabertos.camara.leg.br/api/v2/prop...</td>\n",
       "      <td>REQ</td>\n",
       "      <td>305</td>\n",
       "      <td>391</td>\n",
       "      <td>2019</td>\n",
       "      <td>Solicita a desapensação do PL nº 3.563/2015 do...</td>\n",
       "    </tr>\n",
       "    <tr>\n",
       "      <th>12</th>\n",
       "      <td>2053421</td>\n",
       "      <td>https://dadosabertos.camara.leg.br/api/v2/prop...</td>\n",
       "      <td>PL</td>\n",
       "      <td>139</td>\n",
       "      <td>3563</td>\n",
       "      <td>2015</td>\n",
       "      <td>Torna obrigatória o pagamento de indenizações ...</td>\n",
       "    </tr>\n",
       "    <tr>\n",
       "      <th>13</th>\n",
       "      <td>2055564</td>\n",
       "      <td>https://dadosabertos.camara.leg.br/api/v2/prop...</td>\n",
       "      <td>REQ</td>\n",
       "      <td>392</td>\n",
       "      <td>3570</td>\n",
       "      <td>2015</td>\n",
       "      <td>Requerimento de urgência para apreciação do Pr...</td>\n",
       "    </tr>\n",
       "    <tr>\n",
       "      <th>14</th>\n",
       "      <td>2191838</td>\n",
       "      <td>https://dadosabertos.camara.leg.br/api/v2/prop...</td>\n",
       "      <td>REQ</td>\n",
       "      <td>305</td>\n",
       "      <td>391</td>\n",
       "      <td>2019</td>\n",
       "      <td>Solicita a desapensação do PL nº 3.563/2015 do...</td>\n",
       "    </tr>\n",
       "    <tr>\n",
       "      <th>15</th>\n",
       "      <td>2192580</td>\n",
       "      <td>https://dadosabertos.camara.leg.br/api/v2/prop...</td>\n",
       "      <td>PL</td>\n",
       "      <td>139</td>\n",
       "      <td>970</td>\n",
       "      <td>2019</td>\n",
       "      <td>Dispõe sobre o aumento em cinco vezes de multa...</td>\n",
       "    </tr>\n",
       "    <tr>\n",
       "      <th>16</th>\n",
       "      <td>2092153</td>\n",
       "      <td>https://dadosabertos.camara.leg.br/api/v2/prop...</td>\n",
       "      <td>PL</td>\n",
       "      <td>139</td>\n",
       "      <td>5848</td>\n",
       "      <td>2016</td>\n",
       "      <td>Estabelece obrigatoriedade de contratação de s...</td>\n",
       "    </tr>\n",
       "    <tr>\n",
       "      <th>17</th>\n",
       "      <td>2191964</td>\n",
       "      <td>https://dadosabertos.camara.leg.br/api/v2/prop...</td>\n",
       "      <td>REQ</td>\n",
       "      <td>363</td>\n",
       "      <td>419</td>\n",
       "      <td>2019</td>\n",
       "      <td>Requer o desarquivamento de proposições.</td>\n",
       "    </tr>\n",
       "    <tr>\n",
       "      <th>18</th>\n",
       "      <td>2192099</td>\n",
       "      <td>https://dadosabertos.camara.leg.br/api/v2/prop...</td>\n",
       "      <td>PL</td>\n",
       "      <td>139</td>\n",
       "      <td>793</td>\n",
       "      <td>2019</td>\n",
       "      <td>Estabelece obrigatoriedade de contratação de s...</td>\n",
       "    </tr>\n",
       "    <tr>\n",
       "      <th>19</th>\n",
       "      <td>2191876</td>\n",
       "      <td>https://dadosabertos.camara.leg.br/api/v2/prop...</td>\n",
       "      <td>PL</td>\n",
       "      <td>139</td>\n",
       "      <td>716</td>\n",
       "      <td>2019</td>\n",
       "      <td>Acrescenta o art. 10-A à Lei nº 6.938, de 31 d...</td>\n",
       "    </tr>\n",
       "    <tr>\n",
       "      <th>20</th>\n",
       "      <td>2207855</td>\n",
       "      <td>https://dadosabertos.camara.leg.br/api/v2/prop...</td>\n",
       "      <td>SBT-A</td>\n",
       "      <td>701</td>\n",
       "      <td>1</td>\n",
       "      <td>0</td>\n",
       "      <td>Altera a Lei nº 12.334, de 20 de setembro de 2...</td>\n",
       "    </tr>\n",
       "  </tbody>\n",
       "</table>\n",
       "</div>"
      ],
      "text/plain": [
       "         id                                                uri siglaTipo  \\\n",
       "0   2221504  https://dadosabertos.camara.leg.br/api/v2/prop...       PRL   \n",
       "1   2115341  https://dadosabertos.camara.leg.br/api/v2/prop...       PAR   \n",
       "2   2091011  https://dadosabertos.camara.leg.br/api/v2/prop...       PRL   \n",
       "3   2110725  https://dadosabertos.camara.leg.br/api/v2/prop...       PRL   \n",
       "4   2113408  https://dadosabertos.camara.leg.br/api/v2/prop...       PRL   \n",
       "5   2208996  https://dadosabertos.camara.leg.br/api/v2/prop...       PAR   \n",
       "6   2204948  https://dadosabertos.camara.leg.br/api/v2/prop...       PRL   \n",
       "7   2204950  https://dadosabertos.camara.leg.br/api/v2/prop...       SBT   \n",
       "8   2053637  https://dadosabertos.camara.leg.br/api/v2/prop...       REQ   \n",
       "9   2056372  https://dadosabertos.camara.leg.br/api/v2/prop...       REQ   \n",
       "10  2190976  https://dadosabertos.camara.leg.br/api/v2/prop...       REQ   \n",
       "11  2191838  https://dadosabertos.camara.leg.br/api/v2/prop...       REQ   \n",
       "12  2053421  https://dadosabertos.camara.leg.br/api/v2/prop...        PL   \n",
       "13  2055564  https://dadosabertos.camara.leg.br/api/v2/prop...       REQ   \n",
       "14  2191838  https://dadosabertos.camara.leg.br/api/v2/prop...       REQ   \n",
       "15  2192580  https://dadosabertos.camara.leg.br/api/v2/prop...        PL   \n",
       "16  2092153  https://dadosabertos.camara.leg.br/api/v2/prop...        PL   \n",
       "17  2191964  https://dadosabertos.camara.leg.br/api/v2/prop...       REQ   \n",
       "18  2192099  https://dadosabertos.camara.leg.br/api/v2/prop...        PL   \n",
       "19  2191876  https://dadosabertos.camara.leg.br/api/v2/prop...        PL   \n",
       "20  2207855  https://dadosabertos.camara.leg.br/api/v2/prop...     SBT-A   \n",
       "\n",
       "   codTipo numero   ano                                             ementa  \n",
       "0      190      3     0  Parecer da Relatora, Dep. Alê Silva (PSL-MG), ...  \n",
       "1      187      1     0  Aprovado o Parecer por unanimidade.. \\r\\nParec...  \n",
       "2      190      1     0  Parecer do Relator, Dep. Josué Bengtson (PTB-P...  \n",
       "3      190      2     0  Parecer do Relator, Dep. Josué Bengtson (pende...  \n",
       "4      190      3     0  Parecer do Relator, Dep. Josué Bengtson (PTB-P...  \n",
       "5      187      1     0  Aprovado o Parecer do Relator, Deputado Wellin...  \n",
       "6      190      2     0  Parecer do Relator, Dep. Wellington Roberto (P...  \n",
       "7      255      1     0  Torna obrigatória a contratação de seguro cont...  \n",
       "8      392   3514  2015  Requer urgência para apreciação do Projeto de ...  \n",
       "9      305   3606  2015  Requer a desapensação do Projeto de Lei nº 356...  \n",
       "10     521    111  2019  Requer a constituição de comissão especial par...  \n",
       "11     305    391  2019  Solicita a desapensação do PL nº 3.563/2015 do...  \n",
       "12     139   3563  2015  Torna obrigatória o pagamento de indenizações ...  \n",
       "13     392   3570  2015  Requerimento de urgência para apreciação do Pr...  \n",
       "14     305    391  2019  Solicita a desapensação do PL nº 3.563/2015 do...  \n",
       "15     139    970  2019  Dispõe sobre o aumento em cinco vezes de multa...  \n",
       "16     139   5848  2016  Estabelece obrigatoriedade de contratação de s...  \n",
       "17     363    419  2019           Requer o desarquivamento de proposições.  \n",
       "18     139    793  2019  Estabelece obrigatoriedade de contratação de s...  \n",
       "19     139    716  2019  Acrescenta o art. 10-A à Lei nº 6.938, de 31 d...  \n",
       "20     701      1     0  Altera a Lei nº 12.334, de 20 de setembro de 2...  "
      ]
     },
     "execution_count": 86,
     "metadata": {},
     "output_type": "execute_result"
    }
   ],
   "source": [
    "prop = camara.Proposicao(cod=propositions.sample().id.iloc[0])\n",
    "prop.relacionadas()"
   ]
  },
  {
   "cell_type": "code",
   "execution_count": 87,
   "id": "2db7b39d-0ac9-42cb-91a7-d324b1027d74",
   "metadata": {},
   "outputs": [
    {
     "data": {
      "text/html": [
       "<div>\n",
       "<style scoped>\n",
       "    .dataframe tbody tr th:only-of-type {\n",
       "        vertical-align: middle;\n",
       "    }\n",
       "\n",
       "    .dataframe tbody tr th {\n",
       "        vertical-align: top;\n",
       "    }\n",
       "\n",
       "    .dataframe thead th {\n",
       "        text-align: right;\n",
       "    }\n",
       "</style>\n",
       "<table border=\"1\" class=\"dataframe\">\n",
       "  <thead>\n",
       "    <tr style=\"text-align: right;\">\n",
       "      <th></th>\n",
       "      <th>codTema</th>\n",
       "      <th>tema</th>\n",
       "      <th>relevancia</th>\n",
       "    </tr>\n",
       "  </thead>\n",
       "  <tbody>\n",
       "    <tr>\n",
       "      <th>0</th>\n",
       "      <td>54</td>\n",
       "      <td>Energia, Recursos Hídricos e Minerais</td>\n",
       "      <td>0</td>\n",
       "    </tr>\n",
       "  </tbody>\n",
       "</table>\n",
       "</div>"
      ],
      "text/plain": [
       "   codTema                                   tema  relevancia\n",
       "0       54  Energia, Recursos Hídricos e Minerais           0"
      ]
     },
     "execution_count": 87,
     "metadata": {},
     "output_type": "execute_result"
    }
   ],
   "source": [
    "prop.temas()"
   ]
  },
  {
   "cell_type": "code",
   "execution_count": 91,
   "id": "5c67ee5f-fab4-4564-9388-f57fe8f45a6f",
   "metadata": {},
   "outputs": [
    {
     "data": {
      "text/plain": [
       "41"
      ]
     },
     "execution_count": 91,
     "metadata": {},
     "output_type": "execute_result"
    }
   ],
   "source": [
    "prop.tramitacoes()[prop.tramitacoes().siglaOrgao=='PLEN'].shape[0]"
   ]
  },
  {
   "cell_type": "code",
   "execution_count": 92,
   "id": "5d763a92-83f5-4b68-af0e-ec340231d57a",
   "metadata": {},
   "outputs": [
    {
     "data": {
      "text/html": [
       "<div>\n",
       "<style scoped>\n",
       "    .dataframe tbody tr th:only-of-type {\n",
       "        vertical-align: middle;\n",
       "    }\n",
       "\n",
       "    .dataframe tbody tr th {\n",
       "        vertical-align: top;\n",
       "    }\n",
       "\n",
       "    .dataframe thead th {\n",
       "        text-align: right;\n",
       "    }\n",
       "</style>\n",
       "<table border=\"1\" class=\"dataframe\">\n",
       "  <thead>\n",
       "    <tr style=\"text-align: right;\">\n",
       "      <th></th>\n",
       "      <th>id</th>\n",
       "      <th>uri</th>\n",
       "      <th>data</th>\n",
       "      <th>dataHoraRegistro</th>\n",
       "      <th>siglaOrgao</th>\n",
       "      <th>uriOrgao</th>\n",
       "      <th>uriEvento</th>\n",
       "      <th>proposicaoObjeto</th>\n",
       "      <th>uriProposicaoObjeto</th>\n",
       "      <th>descricao</th>\n",
       "      <th>aprovacao</th>\n",
       "    </tr>\n",
       "  </thead>\n",
       "  <tbody>\n",
       "    <tr>\n",
       "      <th>0</th>\n",
       "      <td>2053378-124</td>\n",
       "      <td>https://dadosabertos.camara.leg.br/api/v2/vota...</td>\n",
       "      <td>2019-06-12</td>\n",
       "      <td>2019-06-12T15:21:10</td>\n",
       "      <td>CME</td>\n",
       "      <td>https://dadosabertos.camara.leg.br/api/v2/orga...</td>\n",
       "      <td>https://dadosabertos.camara.leg.br/api/v2/even...</td>\n",
       "      <td>None</td>\n",
       "      <td>None</td>\n",
       "      <td>Aprovado o Parecer do Relator, Deputado Wellin...</td>\n",
       "      <td>1</td>\n",
       "    </tr>\n",
       "    <tr>\n",
       "      <th>1</th>\n",
       "      <td>2053378-88</td>\n",
       "      <td>https://dadosabertos.camara.leg.br/api/v2/vota...</td>\n",
       "      <td>2016-10-25</td>\n",
       "      <td>2016-10-25T12:03:47</td>\n",
       "      <td>CMADS</td>\n",
       "      <td>https://dadosabertos.camara.leg.br/api/v2/orga...</td>\n",
       "      <td>https://dadosabertos.camara.leg.br/api/v2/even...</td>\n",
       "      <td>None</td>\n",
       "      <td>None</td>\n",
       "      <td>Aprovado o Parecer por unanimidade.</td>\n",
       "      <td>1</td>\n",
       "    </tr>\n",
       "    <tr>\n",
       "      <th>2</th>\n",
       "      <td>2053378-42</td>\n",
       "      <td>https://dadosabertos.camara.leg.br/api/v2/vota...</td>\n",
       "      <td>2016-03-31</td>\n",
       "      <td>2016-03-31T14:40:57</td>\n",
       "      <td>PLEN</td>\n",
       "      <td>https://dadosabertos.camara.leg.br/api/v2/orga...</td>\n",
       "      <td>https://dadosabertos.camara.leg.br/api/v2/even...</td>\n",
       "      <td>None</td>\n",
       "      <td>None</td>\n",
       "      <td>** Aprovado o Requerimento do Dep. Paulo Teixe...</td>\n",
       "      <td>1</td>\n",
       "    </tr>\n",
       "    <tr>\n",
       "      <th>3</th>\n",
       "      <td>2053378-39</td>\n",
       "      <td>https://dadosabertos.camara.leg.br/api/v2/vota...</td>\n",
       "      <td>2016-03-30</td>\n",
       "      <td>2016-03-30T15:55:31</td>\n",
       "      <td>PLEN</td>\n",
       "      <td>https://dadosabertos.camara.leg.br/api/v2/orga...</td>\n",
       "      <td>https://dadosabertos.camara.leg.br/api/v2/even...</td>\n",
       "      <td>None</td>\n",
       "      <td>None</td>\n",
       "      <td>**Aprovado o Requerimento do Dep. José Guimarã...</td>\n",
       "      <td>1</td>\n",
       "    </tr>\n",
       "    <tr>\n",
       "      <th>4</th>\n",
       "      <td>2053378-35</td>\n",
       "      <td>https://dadosabertos.camara.leg.br/api/v2/vota...</td>\n",
       "      <td>2016-03-23</td>\n",
       "      <td>2016-03-23T11:41:55</td>\n",
       "      <td>PLEN</td>\n",
       "      <td>https://dadosabertos.camara.leg.br/api/v2/orga...</td>\n",
       "      <td>https://dadosabertos.camara.leg.br/api/v2/even...</td>\n",
       "      <td>None</td>\n",
       "      <td>None</td>\n",
       "      <td>*** Aprovado o Requerimento do Dep. Onyx Loren...</td>\n",
       "      <td>1</td>\n",
       "    </tr>\n",
       "    <tr>\n",
       "      <th>5</th>\n",
       "      <td>2053378-33</td>\n",
       "      <td>https://dadosabertos.camara.leg.br/api/v2/vota...</td>\n",
       "      <td>2016-03-22</td>\n",
       "      <td>2016-03-22T13:25:04</td>\n",
       "      <td>PLEN</td>\n",
       "      <td>https://dadosabertos.camara.leg.br/api/v2/orga...</td>\n",
       "      <td>None</td>\n",
       "      <td>None</td>\n",
       "      <td>None</td>\n",
       "      <td>Alteração do Regime de Tramitação desta propos...</td>\n",
       "      <td>1</td>\n",
       "    </tr>\n",
       "  </tbody>\n",
       "</table>\n",
       "</div>"
      ],
      "text/plain": [
       "            id                                                uri        data  \\\n",
       "0  2053378-124  https://dadosabertos.camara.leg.br/api/v2/vota...  2019-06-12   \n",
       "1   2053378-88  https://dadosabertos.camara.leg.br/api/v2/vota...  2016-10-25   \n",
       "2   2053378-42  https://dadosabertos.camara.leg.br/api/v2/vota...  2016-03-31   \n",
       "3   2053378-39  https://dadosabertos.camara.leg.br/api/v2/vota...  2016-03-30   \n",
       "4   2053378-35  https://dadosabertos.camara.leg.br/api/v2/vota...  2016-03-23   \n",
       "5   2053378-33  https://dadosabertos.camara.leg.br/api/v2/vota...  2016-03-22   \n",
       "\n",
       "      dataHoraRegistro siglaOrgao  \\\n",
       "0  2019-06-12T15:21:10        CME   \n",
       "1  2016-10-25T12:03:47      CMADS   \n",
       "2  2016-03-31T14:40:57       PLEN   \n",
       "3  2016-03-30T15:55:31       PLEN   \n",
       "4  2016-03-23T11:41:55       PLEN   \n",
       "5  2016-03-22T13:25:04       PLEN   \n",
       "\n",
       "                                            uriOrgao  \\\n",
       "0  https://dadosabertos.camara.leg.br/api/v2/orga...   \n",
       "1  https://dadosabertos.camara.leg.br/api/v2/orga...   \n",
       "2  https://dadosabertos.camara.leg.br/api/v2/orga...   \n",
       "3  https://dadosabertos.camara.leg.br/api/v2/orga...   \n",
       "4  https://dadosabertos.camara.leg.br/api/v2/orga...   \n",
       "5  https://dadosabertos.camara.leg.br/api/v2/orga...   \n",
       "\n",
       "                                           uriEvento proposicaoObjeto  \\\n",
       "0  https://dadosabertos.camara.leg.br/api/v2/even...             None   \n",
       "1  https://dadosabertos.camara.leg.br/api/v2/even...             None   \n",
       "2  https://dadosabertos.camara.leg.br/api/v2/even...             None   \n",
       "3  https://dadosabertos.camara.leg.br/api/v2/even...             None   \n",
       "4  https://dadosabertos.camara.leg.br/api/v2/even...             None   \n",
       "5                                               None             None   \n",
       "\n",
       "  uriProposicaoObjeto                                          descricao  \\\n",
       "0                None  Aprovado o Parecer do Relator, Deputado Wellin...   \n",
       "1                None                Aprovado o Parecer por unanimidade.   \n",
       "2                None  ** Aprovado o Requerimento do Dep. Paulo Teixe...   \n",
       "3                None  **Aprovado o Requerimento do Dep. José Guimarã...   \n",
       "4                None  *** Aprovado o Requerimento do Dep. Onyx Loren...   \n",
       "5                None  Alteração do Regime de Tramitação desta propos...   \n",
       "\n",
       "   aprovacao  \n",
       "0          1  \n",
       "1          1  \n",
       "2          1  \n",
       "3          1  \n",
       "4          1  \n",
       "5          1  "
      ]
     },
     "execution_count": 92,
     "metadata": {},
     "output_type": "execute_result"
    }
   ],
   "source": [
    "prop.votacoes()"
   ]
  },
  {
   "cell_type": "code",
   "execution_count": 103,
   "id": "5076d12b-70de-42a9-9b13-54e7fdad85a9",
   "metadata": {},
   "outputs": [
    {
     "data": {
      "text/html": [
       "<div>\n",
       "<style scoped>\n",
       "    .dataframe tbody tr th:only-of-type {\n",
       "        vertical-align: middle;\n",
       "    }\n",
       "\n",
       "    .dataframe tbody tr th {\n",
       "        vertical-align: top;\n",
       "    }\n",
       "\n",
       "    .dataframe thead th {\n",
       "        text-align: right;\n",
       "    }\n",
       "</style>\n",
       "<table border=\"1\" class=\"dataframe\">\n",
       "  <thead>\n",
       "    <tr style=\"text-align: right;\">\n",
       "      <th></th>\n",
       "    </tr>\n",
       "  </thead>\n",
       "  <tbody>\n",
       "  </tbody>\n",
       "</table>\n",
       "</div>"
      ],
      "text/plain": [
       "Empty DataFrame\n",
       "Columns: []\n",
       "Index: []"
      ]
     },
     "execution_count": 103,
     "metadata": {},
     "output_type": "execute_result"
    }
   ],
   "source": [
    "camara.Votacao(cod=\"2053378-42\").votos()"
   ]
  },
  {
   "cell_type": "markdown",
   "id": "4862e305-f573-40ea-8132-f0ebedd01d9f",
   "metadata": {},
   "source": [
    "## Votings \n",
    "\n",
    "Basic information about the votes that took place in events of the different bodies of the Chamber. "
   ]
  },
  {
   "cell_type": "code",
   "execution_count": 31,
   "id": "9e91664d-23e5-44a5-bc51-ead59be8f3a6",
   "metadata": {},
   "outputs": [
    {
     "data": {
      "text/plain": [
       "'https://dadosabertos.camara.leg.br/api/v2/votacoes?dataInicio=2021-01-01&dataFim=2021-06-30&pagina=18&itens=200'"
      ]
     },
     "execution_count": 31,
     "metadata": {},
     "output_type": "execute_result"
    }
   ],
   "source": [
    "page = requests.get(api+'votacoes?dataInicio=2021-01-01&dataFim=2021-06-30&itens=200')\n",
    "page.json()['links'][-1]['href']"
   ]
  },
  {
   "cell_type": "code",
   "execution_count": 32,
   "id": "20e79efc-7750-4339-83cf-973b6b1d2409",
   "metadata": {},
   "outputs": [
    {
     "name": "stderr",
     "output_type": "stream",
     "text": [
      "100%|██████████| 17/17 [07:31<00:00, 26.53s/it]\n"
     ]
    }
   ],
   "source": [
    "votings = camara.lista_votacoes(inicio='2021-01-01', fim='2021-06-30')\n",
    "\n",
    "for page in tqdm.tqdm(range(2,19)):\n",
    "    \n",
    "    while True: \n",
    "        try:   \n",
    "            votings = votings.append(camara.lista_votacoes(inicio='2021-01-01', fim='2021-06-30', pagina=page))\n",
    "            break\n",
    "        except: \n",
    "            time.sleep(10)"
   ]
  },
  {
   "cell_type": "code",
   "execution_count": 41,
   "id": "fae55854-c9ad-4b4d-8d4f-71da418397c1",
   "metadata": {},
   "outputs": [
    {
     "data": {
      "image/png": "[encoded data removed]",
      "text/plain": [
       "<Figure size 432x288 with 1 Axes>"
      ]
     },
     "metadata": {
      "needs_background": "light"
     },
     "output_type": "display_data"
    }
   ],
   "source": [
    "votings.groupby('siglaOrgao').id.count().sort_values(ascending=False).iloc[0:20].plot.bar()\n",
    "plt.title('Number of votings duting 2021 per body')\n",
    "plt.show()"
   ]
  },
  {
   "cell_type": "code",
   "execution_count": 49,
   "id": "41525dad-452e-474d-af69-f24d5551c020",
   "metadata": {},
   "outputs": [],
   "source": [
    "vot = camara.Votacao(cod=votings[votings.siglaOrgao=='PLEN'].sample().id.iloc[0])"
   ]
  },
  {
   "cell_type": "code",
   "execution_count": 52,
   "id": "d561e3d3-e638-43a2-9883-95e9a78a6966",
   "metadata": {},
   "outputs": [
    {
     "data": {
      "text/plain": [
       "dict_keys(['id', 'uri', 'data', 'dataHoraRegistro', 'siglaOrgao', 'uriOrgao', 'idOrgao', 'uriEvento', 'idEvento', 'descricao', 'aprovacao', 'descUltimaAberturaVotacao', 'dataHoraUltimaAberturaVotacao', 'ultimaApresentacaoProposicao', 'efeitosRegistrados', 'objetosPossiveis', 'proposicoesAfetadas'])"
      ]
     },
     "execution_count": 52,
     "metadata": {},
     "output_type": "execute_result"
    }
   ],
   "source": [
    "vot.dados.keys()"
   ]
  },
  {
   "cell_type": "code",
   "execution_count": 63,
   "id": "e9395cc5-2f7f-45a4-9bdd-c608365c9b24",
   "metadata": {},
   "outputs": [
    {
     "data": {
      "text/plain": [
       "[{'id': 2263719,\n",
       "  'uri': 'https://dadosabertos.camara.leg.br/api/v2/proposicoes/2263719',\n",
       "  'siglaTipo': 'MPV',\n",
       "  'codTipo': 291,\n",
       "  'numero': 1006,\n",
       "  'ano': 2020,\n",
       "  'ementa': 'Aumenta a margem de crédito consignado dos titulares de benefícios de aposentadoria e pensão do Regime Geral de Previdência Social durante o período da pandemia de covid-19.  NOVA EMENTA: Dispõe sobre o acréscimo de 5% (cinco por cento) ao percentual máximo para a contratação de operações de crédito com desconto automático em folha de pagamento no período de calamidade pública decorrente da pandemia da Covid-19; e altera a Lei nº 8.213, de 24 de julho de 1991.'}]"
      ]
     },
     "execution_count": 63,
     "metadata": {},
     "output_type": "execute_result"
    }
   ],
   "source": [
    "vot.dados['proposicoesAfetadas']"
   ]
  }
 ],
 "metadata": {
  "kernelspec": {
   "display_name": "Python 3.7.3 64-bit ('base')",
   "language": "python",
   "name": "python37364bitbase6782713bed674ed7a26121bd52530782"
  },
  "language_info": {
   "codemirror_mode": {
    "name": "ipython",
    "version": 3
   },
   "file_extension": ".py",
   "mimetype": "text/x-python",
   "name": "python",
   "nbconvert_exporter": "python",
   "pygments_lexer": "ipython3",
   "version": "3.7.1"
  }
 },
 "nbformat": 4,
 "nbformat_minor": 5
}
