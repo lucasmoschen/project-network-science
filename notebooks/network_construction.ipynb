{
 "cells": [
  {
   "cell_type": "markdown",
   "id": "766643ac-3aec-4262-8774-e1f0ca04ed38",
   "metadata": {},
   "source": [
    "# Network construction\n",
    "\n",
    "Network construction is aligned with the questions we aim to answer in the project. For this, the nodes represent the deputies. Two deputies are linked if their voting pattern is similar, which will be made clear below. \n",
    "\n",
    "We consider the votings that occurred during a period (year or legislature) in the plenary. "
   ]
  },
  {
   "cell_type": "code",
   "execution_count": 153,
   "id": "c9edbaa2-6d6a-4b7a-a221-12153cc3b929",
   "metadata": {},
   "outputs": [],
   "source": [
    "import pandas as pd\n",
    "import numpy as np\n",
    "import networkx as nx\n",
    "\n",
    "from DadosAbertosBrasil import camara\n",
    "\n",
    "import matplotlib.pyplot as plt\n",
    "import seaborn as sns\n",
    "sns.set()\n",
    "\n",
    "import json\n",
    "import time\n",
    "from tqdm.notebook import trange\n",
    "import requests\n",
    "import re\n",
    "import os\n",
    "\n",
    "api = \"https://dadosabertos.camara.leg.br/api/v2/\"\n",
    "dados = \"http://dadosabertos.camara.leg.br/arquivos/\""
   ]
  },
  {
   "cell_type": "markdown",
   "id": "3e0974a5-b604-4307-9215-e3057f2674df",
   "metadata": {},
   "source": [
    "## Votings \n",
    "\n",
    "### Downloading\n",
    "\n",
    "Get votings per year and saving it. If you want to use the API, follow the code below. It takes more than 4 hours.  "
   ]
  },
  {
   "cell_type": "raw",
   "id": "647d8d5f-f2ac-456b-8d09-3ef07a0e6922",
   "metadata": {},
   "source": [
    "votings = pd.DataFrame()\n",
    "\n",
    "with trange(1995, 2022, desc='Year') as years: \n",
    "    \n",
    "    for year in years: \n",
    "        \n",
    "        location = \"votacoes?dataInicio={}-01-01&dataFim={}-12-31&itens=200\".format(year,year)\n",
    "        page = requests.get(api+location)\n",
    "        last_page = int(re.findall('pagina=([1-9]*)', page.json()['links'][-1]['href'])[0])\n",
    "    \n",
    "        for page in trange(1,last_page+1, position=1, leave=False, desc='Page'):\n",
    "        \n",
    "            while True: \n",
    "                try:        \n",
    "                    vot = camara.lista_votacoes(inicio=str(year)+'-01-01', \n",
    "                                                fim=str(year)+'-12-31', \n",
    "                                                itens=200,\n",
    "                                                pagina=page)\n",
    "                    break\n",
    "                except: \n",
    "                    time.sleep(10)\n",
    "        \n",
    "            votings = votings.append(vot[vot.siglaOrgao == 'PLEN'][['id','data']].reset_index(drop=True))\n",
    "            \n",
    "votings.to_csv('../dados/votacoes.csv')"
   ]
  },
  {
   "cell_type": "markdown",
   "id": "8c245891-4fe9-4cd8-b856-14c52f1df895",
   "metadata": {},
   "source": [
    "If you want to download the files, follow the code below. It is faster, but it saves everything on the memory. "
   ]
  },
  {
   "cell_type": "code",
   "execution_count": 154,
   "id": "5440544c-9eee-4254-a2e4-09fd58126a18",
   "metadata": {},
   "outputs": [
    {
     "data": {
      "application/vnd.jupyter.widget-view+json": {
       "model_id": "81a7e125c72c4d09af78fdebd07517cb",
       "version_major": 2,
       "version_minor": 0
      },
      "text/plain": [
       "Year:   0%|          | 0/27 [00:00<?, ?it/s]"
      ]
     },
     "metadata": {},
     "output_type": "display_data"
    }
   ],
   "source": [
    "for year in trange(1995,2022, desc='Year'): \n",
    "    filepath = '../dados/votacoes-{}.csv'.format(year)\n",
    "    if os.path.exists(filepath): \n",
    "        continue\n",
    "    else: \n",
    "        page = requests.get(dados+'votacoes/csv/votacoes-{}.csv'.format(year))\n",
    "        with open(filepath, 'w') as f: \n",
    "            f.write(page.text)"
   ]
  },
  {
   "cell_type": "code",
   "execution_count": 155,
   "id": "19b8e189-4308-41e6-a019-4510792ad145",
   "metadata": {},
   "outputs": [
    {
     "data": {
      "application/vnd.jupyter.widget-view+json": {
       "model_id": "abb63787841245d6b9645f16c49c1673",
       "version_major": 2,
       "version_minor": 0
      },
      "text/plain": [
       "Year:   0%|          | 0/27 [00:00<?, ?it/s]"
      ]
     },
     "metadata": {},
     "output_type": "display_data"
    }
   ],
   "source": [
    "for year in trange(1995,2022, desc='Year'): \n",
    "    filepath = '../dados/votacoesVotos-{}.csv'.format(year)\n",
    "    if os.path.exists(filepath): \n",
    "        continue\n",
    "    else: \n",
    "        page = requests.get(dados+'votacoes/csv/votacoesVotos-{}.csv'.format(year))\n",
    "        with open(filepath, 'w') as f: \n",
    "            f.write(page.text)"
   ]
  },
  {
   "cell_type": "markdown",
   "id": "0fc67b73-26c3-4d85-a067-b66588044668",
   "metadata": {},
   "source": [
    "### Importing "
   ]
  },
  {
   "cell_type": "code",
   "execution_count": 194,
   "id": "4054ab1a-27a2-49ba-b668-8e1789fc254a",
   "metadata": {},
   "outputs": [],
   "source": [
    "votings = pd.DataFrame()\n",
    "for year in range(1995,2022): \n",
    "    votings = votings.append(pd.read_csv('../dados/votacoes-{}.csv'.format(year), \n",
    "                                         sep = ';', \n",
    "                                         index_col=0)[['data', 'siglaOrgao']])\n",
    "\n",
    "votings_plen = votings[votings.siglaOrgao=='PLEN'][['data']]\n",
    "\n",
    "votings_plen['data'] = pd.to_datetime(votings_plen['data'])\n",
    "votings_plen['year'] = votings_plen.data.apply(lambda x: x.year)\n",
    "votings_plen['month'] = votings_plen.data.apply(lambda x: x.month)\n",
    "votings_plen.drop(columns='data', inplace = True)"
   ]
  },
  {
   "cell_type": "code",
   "execution_count": 195,
   "id": "de12b4eb-5c31-4a78-b670-629d2d09aec3",
   "metadata": {},
   "outputs": [
    {
     "data": {
      "image/png": "[encoded data removed]",
      "text/plain": [
       "<Figure size 432x288 with 1 Axes>"
      ]
     },
     "metadata": {},
     "output_type": "display_data"
    }
   ],
   "source": [
    "votings_plen.year.value_counts().sort_index().plot.bar()\n",
    "plt.title('Number of votings in plenary per year')\n",
    "plt.show()"
   ]
  },
  {
   "cell_type": "code",
   "execution_count": 222,
   "id": "815f08c2-53ec-4ad0-81db-77a76c0df20d",
   "metadata": {},
   "outputs": [
    {
     "data": {
      "text/plain": [
       "CCJC      0.514851\n",
       "CFT       0.099010\n",
       "CDC       0.075908\n",
       "CSSF      0.072607\n",
       "CTASP     0.056106\n",
       "CE        0.039604\n",
       "CCTCI     0.033003\n",
       "CVT       0.033003\n",
       "CDEICS    0.029703\n",
       "CDU       0.013201\n",
       "CFFC      0.009901\n",
       "CAPADR    0.009901\n",
       "CME       0.006601\n",
       "MESA      0.003300\n",
       "PLEN      0.003300\n",
       "Name: siglaOrgao, dtype: float64"
      ]
     },
     "execution_count": 222,
     "metadata": {},
     "output_type": "execute_result"
    }
   ],
   "source": [
    "votings[votings.data.str.contains('1996')].siglaOrgao.value_counts(normalize = True)"
   ]
  },
  {
   "cell_type": "code",
   "execution_count": null,
   "id": "c5a154f2-9011-4423-bcdc-1d88fe1ad861",
   "metadata": {},
   "outputs": [],
   "source": []
  }
 ],
 "metadata": {
  "kernelspec": {
   "display_name": "Python 3.7.3 64-bit ('base')",
   "language": "python",
   "name": "python37364bitbase6782713bed674ed7a26121bd52530782"
  },
  "language_info": {
   "codemirror_mode": {
    "name": "ipython",
    "version": 3
   },
   "file_extension": ".py",
   "mimetype": "text/x-python",
   "name": "python",
   "nbconvert_exporter": "python",
   "pygments_lexer": "ipython3",
   "version": "3.7.1"
  }
 },
 "nbformat": 4,
 "nbformat_minor": 5
}
