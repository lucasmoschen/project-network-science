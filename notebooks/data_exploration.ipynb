{
 "cells": [
  {
   "cell_type": "markdown",
   "id": "284a7f6a-581c-4d94-a354-82411a5149d9",
   "metadata": {},
   "source": [
    "# Brazilian Chamber of Deputies \n",
    "\n",
    "The Open Data from Chamber service provides a collection of features that allow direct access to legislative data produced in the Chamber of Deputies, such as data on deputies, legislative bodies, proposals, plenary sessions, and committee meetings. \n",
    "\n",
    "There are two different ways to obtain this data. \n",
    "\n",
    "1. Through the available API, with `DadosAbertosBrasil` package developed by Gustavo Furtado or directly with `requests` package. \n",
    "\n",
    "2. Download `json` or `csv` formats from the website. \n",
    "\n",
    "Open data API website: https://dadosabertos.camara.leg.br/swagger/api.html#api\n",
    "\n",
    "`DadosAbertosBrasil` package website: https://www.gustavofurtado.com/DadosAbertosBrasil/camara.html#documentacao-da-api-original\n",
    "\n",
    "If necessary, install it.  "
   ]
  },
  {
   "cell_type": "raw",
   "id": "14ba5e3a-7d84-41b0-bd53-51137fca660f",
   "metadata": {},
   "source": [
    "!pip install DadosAbertosBrasil"
   ]
  },
  {
   "cell_type": "code",
   "execution_count": 2,
   "id": "fcbdf0e5-c313-42bd-a1f5-3a36601bc681",
   "metadata": {},
   "outputs": [],
   "source": [
    "import pandas as pd\n",
    "import numpy as np\n",
    "from scipy.stats import chisquare\n",
    "import networkx as nx\n",
    "\n",
    "from DadosAbertosBrasil import camara\n",
    "\n",
    "import json\n",
    "import time, tqdm"
   ]
  },
  {
   "cell_type": "markdown",
   "id": "22f72f0a-ac4b-436e-9358-4819236a9e90",
   "metadata": {},
   "source": [
    "## Notebook settings "
   ]
  },
  {
   "cell_type": "code",
   "execution_count": 4,
   "id": "8532504c-6092-42d3-a988-3295e4bf82b7",
   "metadata": {},
   "outputs": [],
   "source": [
    "api = \"https://dadosabertos.camara.leg.br/api/v2/\""
   ]
  },
  {
   "cell_type": "markdown",
   "id": "620ecea7-2038-40fa-a437-633c98b092e5",
   "metadata": {},
   "source": [
    "## Deputies\n",
    "\n",
    "First we get the deputies list from the last legislature. "
   ]
  },
  {
   "cell_type": "code",
   "execution_count": 3,
   "id": "420c34f3-6e86-4e5a-bdcd-c207a8996079",
   "metadata": {},
   "outputs": [
    {
     "data": {
      "text/html": [
       "<div>\n",
       "<style scoped>\n",
       "    .dataframe tbody tr th:only-of-type {\n",
       "        vertical-align: middle;\n",
       "    }\n",
       "\n",
       "    .dataframe tbody tr th {\n",
       "        vertical-align: top;\n",
       "    }\n",
       "\n",
       "    .dataframe thead th {\n",
       "        text-align: right;\n",
       "    }\n",
       "</style>\n",
       "<table border=\"1\" class=\"dataframe\">\n",
       "  <thead>\n",
       "    <tr style=\"text-align: right;\">\n",
       "      <th></th>\n",
       "      <th>id</th>\n",
       "      <th>uri</th>\n",
       "      <th>nome</th>\n",
       "      <th>siglaPartido</th>\n",
       "      <th>uriPartido</th>\n",
       "      <th>siglaUf</th>\n",
       "      <th>idLegislatura</th>\n",
       "      <th>urlFoto</th>\n",
       "      <th>email</th>\n",
       "    </tr>\n",
       "  </thead>\n",
       "  <tbody>\n",
       "    <tr>\n",
       "      <th>0</th>\n",
       "      <td>204554</td>\n",
       "      <td>https://dadosabertos.camara.leg.br/api/v2/depu...</td>\n",
       "      <td>Abílio Santana</td>\n",
       "      <td>PL</td>\n",
       "      <td>https://dadosabertos.camara.leg.br/api/v2/part...</td>\n",
       "      <td>BA</td>\n",
       "      <td>56</td>\n",
       "      <td>https://www.camara.leg.br/internet/deputado/ba...</td>\n",
       "      <td>dep.abiliosantana@camara.leg.br</td>\n",
       "    </tr>\n",
       "    <tr>\n",
       "      <th>1</th>\n",
       "      <td>204521</td>\n",
       "      <td>https://dadosabertos.camara.leg.br/api/v2/depu...</td>\n",
       "      <td>Abou Anni</td>\n",
       "      <td>PSL</td>\n",
       "      <td>https://dadosabertos.camara.leg.br/api/v2/part...</td>\n",
       "      <td>SP</td>\n",
       "      <td>56</td>\n",
       "      <td>https://www.camara.leg.br/internet/deputado/ba...</td>\n",
       "      <td>dep.abouanni@camara.leg.br</td>\n",
       "    </tr>\n",
       "    <tr>\n",
       "      <th>2</th>\n",
       "      <td>204379</td>\n",
       "      <td>https://dadosabertos.camara.leg.br/api/v2/depu...</td>\n",
       "      <td>Acácio Favacho</td>\n",
       "      <td>PROS</td>\n",
       "      <td>https://dadosabertos.camara.leg.br/api/v2/part...</td>\n",
       "      <td>AP</td>\n",
       "      <td>56</td>\n",
       "      <td>https://www.camara.leg.br/internet/deputado/ba...</td>\n",
       "      <td>dep.acaciofavacho@camara.leg.br</td>\n",
       "    </tr>\n",
       "    <tr>\n",
       "      <th>3</th>\n",
       "      <td>204560</td>\n",
       "      <td>https://dadosabertos.camara.leg.br/api/v2/depu...</td>\n",
       "      <td>Adolfo Viana</td>\n",
       "      <td>PSDB</td>\n",
       "      <td>https://dadosabertos.camara.leg.br/api/v2/part...</td>\n",
       "      <td>BA</td>\n",
       "      <td>56</td>\n",
       "      <td>https://www.camara.leg.br/internet/deputado/ba...</td>\n",
       "      <td>dep.adolfoviana@camara.leg.br</td>\n",
       "    </tr>\n",
       "    <tr>\n",
       "      <th>4</th>\n",
       "      <td>204528</td>\n",
       "      <td>https://dadosabertos.camara.leg.br/api/v2/depu...</td>\n",
       "      <td>Adriana Ventura</td>\n",
       "      <td>NOVO</td>\n",
       "      <td>https://dadosabertos.camara.leg.br/api/v2/part...</td>\n",
       "      <td>SP</td>\n",
       "      <td>56</td>\n",
       "      <td>https://www.camara.leg.br/internet/deputado/ba...</td>\n",
       "      <td>dep.adrianaventura@camara.leg.br</td>\n",
       "    </tr>\n",
       "  </tbody>\n",
       "</table>\n",
       "</div>"
      ],
      "text/plain": [
       "       id                                                uri             nome  \\\n",
       "0  204554  https://dadosabertos.camara.leg.br/api/v2/depu...   Abílio Santana   \n",
       "1  204521  https://dadosabertos.camara.leg.br/api/v2/depu...        Abou Anni   \n",
       "2  204379  https://dadosabertos.camara.leg.br/api/v2/depu...   Acácio Favacho   \n",
       "3  204560  https://dadosabertos.camara.leg.br/api/v2/depu...     Adolfo Viana   \n",
       "4  204528  https://dadosabertos.camara.leg.br/api/v2/depu...  Adriana Ventura   \n",
       "\n",
       "  siglaPartido                                         uriPartido siglaUf  \\\n",
       "0           PL  https://dadosabertos.camara.leg.br/api/v2/part...      BA   \n",
       "1          PSL  https://dadosabertos.camara.leg.br/api/v2/part...      SP   \n",
       "2         PROS  https://dadosabertos.camara.leg.br/api/v2/part...      AP   \n",
       "3         PSDB  https://dadosabertos.camara.leg.br/api/v2/part...      BA   \n",
       "4         NOVO  https://dadosabertos.camara.leg.br/api/v2/part...      SP   \n",
       "\n",
       "   idLegislatura                                            urlFoto  \\\n",
       "0             56  https://www.camara.leg.br/internet/deputado/ba...   \n",
       "1             56  https://www.camara.leg.br/internet/deputado/ba...   \n",
       "2             56  https://www.camara.leg.br/internet/deputado/ba...   \n",
       "3             56  https://www.camara.leg.br/internet/deputado/ba...   \n",
       "4             56  https://www.camara.leg.br/internet/deputado/ba...   \n",
       "\n",
       "                              email  \n",
       "0   dep.abiliosantana@camara.leg.br  \n",
       "1        dep.abouanni@camara.leg.br  \n",
       "2   dep.acaciofavacho@camara.leg.br  \n",
       "3     dep.adolfoviana@camara.leg.br  \n",
       "4  dep.adrianaventura@camara.leg.br  "
      ]
     },
     "execution_count": 3,
     "metadata": {},
     "output_type": "execute_result"
    }
   ],
   "source": [
    "deputies = camara.lista_deputados(legislatura = 56)\n",
    "deputies.head()"
   ]
  },
  {
   "cell_type": "markdown",
   "id": "a9635694-bdfb-44aa-a1ef-0373e320861a",
   "metadata": {},
   "source": [
    "## Votes in 2019 \n",
    "\n",
    "For each voting, we can access how the deputies voted. "
   ]
  },
  {
   "cell_type": "code",
   "execution_count": null,
   "id": "ea249a9b-10d3-4eb6-b4af-606f5aff2e33",
   "metadata": {},
   "outputs": [],
   "source": [
    "votacoes = camara.lista_votacoes(inicio='2019-02-01', pagina=1)\n",
    "\n",
    "for page in tqdm.tqdm(range(44), position=0):\n",
    "    time.sleep(10)\n",
    "    for test in range(5): \n",
    "        try:\n",
    "            votacoes = votacoes.append(camara.lista_votacoes(inicio='2019-02-01', pagina=page+1))\n",
    "        except: \n",
    "            time.sleep(5)\n",
    "            print('Page {} with problem. Trying again!'.format(page+1))"
   ]
  },
  {
   "cell_type": "markdown",
   "id": "e404133c-8dbd-4388-b6fd-8483d4dc348f",
   "metadata": {},
   "source": [
    "Usando a versão das votações em formato json."
   ]
  },
  {
   "cell_type": "code",
   "execution_count": 5,
   "id": "e4bbd5af-17a0-4241-ac7b-779cb0b69d73",
   "metadata": {},
   "outputs": [],
   "source": [
    "with open('votacoes-2019.json') as f:\n",
    "    votacoes_2019 = json.load(f)['dados']"
   ]
  },
  {
   "cell_type": "code",
   "execution_count": 6,
   "id": "1481897a-b912-42b0-a792-6f40e217d72d",
   "metadata": {},
   "outputs": [],
   "source": [
    "votacoes_deputados = pd.DataFrame(np.nan,\n",
    "                                  columns=deputados.id,\n",
    "                                  index=[vote['id'] for vote in votacoes_2019]\n",
    "                                 )"
   ]
  },
  {
   "cell_type": "markdown",
   "id": "8c2bf360-5f7d-4183-9524-da56c1c010de",
   "metadata": {},
   "source": [
    "Computando votos"
   ]
  },
  {
   "cell_type": "code",
   "execution_count": 7,
   "id": "f09e04e5-5b6f-4841-8517-f8a8a1719d3c",
   "metadata": {},
   "outputs": [
    {
     "name": "stderr",
     "output_type": "stream",
     "text": [
      "100%|██████████| 120952/120952 [00:10<00:00, 11944.04it/s]\n"
     ]
    }
   ],
   "source": [
    "with open('votacoesVotos-2019.json') as f:\n",
    "    votacoes_votos_2019 = json.load(f)['dados']\n",
    "\n",
    "for voto in tqdm.tqdm(votacoes_votos_2019):\n",
    "    votacoes_deputados.loc[voto['idVotacao'], int(voto['deputado_']['id'])] = 1*(voto['voto'] == 'Sim')"
   ]
  },
  {
   "cell_type": "code",
   "execution_count": 8,
   "id": "915c71c6-5c5b-4d0c-8b89-c8b65615a320",
   "metadata": {},
   "outputs": [],
   "source": [
    "votacoes_corr = votacoes_deputados.corr()"
   ]
  },
  {
   "cell_type": "code",
   "execution_count": 9,
   "id": "94e071b9-c9aa-4caa-b064-8901d450296b",
   "metadata": {},
   "outputs": [],
   "source": [
    "th = np.quantile(abs(votacoes_corr.fillna(0).values).flatten(), \n",
    "                 q = 0.6)\n",
    "\n",
    "adj = 1*((abs(votacoes_corr) > th)&(votacoes_corr < 1))"
   ]
  },
  {
   "cell_type": "markdown",
   "id": "1e5bd46d-c59a-4537-89a4-0325972c5975",
   "metadata": {},
   "source": [
    "Construindo grafo. "
   ]
  },
  {
   "cell_type": "code",
   "execution_count": 10,
   "id": "54f41cf3-1b18-417a-b19d-3e1efe4910f5",
   "metadata": {},
   "outputs": [],
   "source": [
    "G_deputados = nx.from_pandas_adjacency(adj)\n",
    "\n",
    "nodes = {deputados['id'].iloc[i]:\n",
    "          dict(partido = deputados['siglaPartido'].iloc[i], \n",
    "               estado = deputados['siglaUf'].iloc[i])\n",
    "         for i in range(deputados.shape[0])}\n",
    "\n",
    "nx.classes.function.set_node_attributes(G_deputados, nodes)"
   ]
  },
  {
   "cell_type": "code",
   "execution_count": 12,
   "id": "fdc1190c-d666-45c1-94c1-8ee180f18145",
   "metadata": {},
   "outputs": [
    {
     "data": {
      "image/png": "[encoded data removed]",
      "text/plain": [
       "<Figure size 432x288 with 1 Axes>"
      ]
     },
     "metadata": {},
     "output_type": "display_data"
    }
   ],
   "source": [
    "nx.draw(G_deputados, node_size = 20)"
   ]
  }
 ],
 "metadata": {
  "kernelspec": {
   "display_name": "Python 3.7.3 64-bit ('base')",
   "language": "python",
   "name": "python37364bitbase6782713bed674ed7a26121bd52530782"
  },
  "language_info": {
   "codemirror_mode": {
    "name": "ipython",
    "version": 3
   },
   "file_extension": ".py",
   "mimetype": "text/x-python",
   "name": "python",
   "nbconvert_exporter": "python",
   "pygments_lexer": "ipython3",
   "version": "3.7.1"
  }
 },
 "nbformat": 4,
 "nbformat_minor": 5
}
