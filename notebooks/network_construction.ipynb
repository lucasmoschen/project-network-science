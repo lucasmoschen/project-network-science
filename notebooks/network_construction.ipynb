{
 "cells": [
  {
   "cell_type": "markdown",
   "id": "3102a571-f073-4a27-82f0-d07903daf924",
   "metadata": {},
   "source": [
    "# Network construction \n",
    "\n",
    "Network construction is aligned with the questions we aim to answer in the project. For this, the nodes represent the deputies. Two deputies are linked if their voting pattern is similar, which will be made clear below. \n",
    "\n",
    "We consider the votings that occurred during a legislature (presidential term) in the plenary, from 2003 (legislature 52) to 2021 (legislature 56). "
   ]
  },
  {
   "cell_type": "code",
   "execution_count": 4,
   "id": "9299f3b1-2444-4494-83c1-01efc2d7506b",
   "metadata": {},
   "outputs": [],
   "source": [
    "import pandas as pd\n",
    "import numpy as np\n",
    "import networkx as nx\n",
    "\n",
    "import matplotlib.pyplot as plt\n",
    "import seaborn as sns\n",
    "sns.set()\n",
    "\n",
    "import time\n",
    "from tqdm.notebook import trange, tqdm\n",
    "import json"
   ]
  },
  {
   "cell_type": "markdown",
   "id": "f551d0a3-b2b4-4697-a634-524a3d337bd2",
   "metadata": {},
   "source": [
    "First, the metrics will be tested in the 56th legislature. Then, we extend to the past periods. The incidence matrix was already built. "
   ]
  },
  {
   "cell_type": "code",
   "execution_count": 33,
   "id": "f8337adc-12be-424c-b08d-d1caec93fdb2",
   "metadata": {},
   "outputs": [],
   "source": [
    "incidence_matrix = pd.read_csv('../data/tables/incidence_matrix_56.csv', index_col = 0)"
   ]
  },
  {
   "cell_type": "markdown",
   "id": "aa843a9f-e1d8-4543-b3d7-b261820dceea",
   "metadata": {},
   "source": [
    "The vote mapping is the following. Note that besides the above, the deputy can be absent (what is quite common in several votes). "
   ]
  },
  {
   "cell_type": "code",
   "execution_count": 8,
   "id": "a3d36094-b9e9-483e-aac2-2609163fca77",
   "metadata": {},
   "outputs": [
    {
     "data": {
      "text/plain": [
       "{'Não': -1,\n",
       " 'Sim': 1,\n",
       " 'Abstenção': 0,\n",
       " 'Secreto': 278,\n",
       " 'Artigo 17': 17,\n",
       " 'Branco': 255,\n",
       " 'Obstrução': 0.1,\n",
       " 'Favorável com restrições': 0.5}"
      ]
     },
     "execution_count": 8,
     "metadata": {},
     "output_type": "execute_result"
    }
   ],
   "source": [
    "with open('../data/tables/vote_mapping.json') as f: \n",
    "    vote_mapping = json.load(f)\n",
    "    \n",
    "vote_mapping"
   ]
  },
  {
   "cell_type": "markdown",
   "id": "4f6e612f-cde8-499f-8d0e-5632dcf02cd0",
   "metadata": {},
   "source": [
    "## Description of the votes"
   ]
  },
  {
   "cell_type": "markdown",
   "id": "3791b9bb-842c-428b-b931-689e8568eb78",
   "metadata": {},
   "source": [
    "The `Não` indicates that the deputy is AGAINST what is being votes, while `Sim` indicates that they are FOR it. The secret vote is `Secreto`. We deal with it as unknown. The same for `Branco`, which can be translated to IGNORED. The `Artigo 17` is placed when the president of the session does not vote according to the [bylaws of the Chamber of Deputies](https://bd.camara.leg.br/bd/bitstream/handle/bdcamara/18847/regimento_interno_3ed.pdf?sequence=29&isAllowed=y). Therefore we treat it as unknown either. The following are open to discussion and can be controversial: \n",
    "\n",
    "1. `Abstenção`: when the deputy is in the voting section and abstains its votes. There are four different approaches in the literature: \n",
    "    - Treat as unknown information: If the deputy abstains the vote, its value will be 0. \n",
    "    - Treat as partial information: If one deputy abstains to a vote, and the other agrees, we say they half agree. The same for disagreement. \n",
    "    - Treat as partial information and unknown information: If two deputies abstain, we say they agree. If one abstains and the other does not, we say there is 0 information. \n",
    "    - Treat as strong information: An abstention is equivalently to agreement with the majority.  \n",
    "    \n",
    "2. `Favorável com restrições`: This occured less than 0.0027% of the votes in the whole period. We can therefore assign a positive value $p ain (0,1)$ for this kind of vote. Non treatment was found in the litereature for this kind of vote and we think it does not interfeer to much. \n",
    "\n",
    "3. `Absence`: Generally the absence is treated as 0, but it can indicate agreemento or disagreement depending on the strategy of the deputy. Since it is difficult to determine, we treat as unknown information. \n",
    "\n",
    "\n",
    "4. `Obstruction`: \n",
    "\n",
    "> \"Such practice is used to create difficulties or hindrances in a systematic way to\n",
    "delay or impede the approval of a bill in parliament. It is normally used by minority groups\n",
    "which do not have the necessary number of representatives to effectively hold back a decision\n",
    "taken by the majority. Therefore, any vote marked as obstruction is here regarded as AGAINST.\"\n",
    "\n",
    "Besides that, there are different metrics we can use to measure the similarity between two deputies.    "
   ]
  },
  {
   "cell_type": "markdown",
   "id": "581639d4-cb0b-400c-b239-d6042042abb1",
   "metadata": {},
   "source": [
    "### First option [1] \n",
    "\n",
    "Let $M_{ij}^t \\in  \\{-1,+1\\}$ such that is -1 if the deputies have different votes and +1 if they have the same. This metric does not have any prior consideration regarding the type of vote. Moreover $t$ is a voting index. Let $W_{ij}^n = \\sum_{t=0}^n M_{ij}^t \\in [-n,n]$. In our work, we will have only five of this matrix, one for each legislature. After that, \n",
    "\n",
    "$$\n",
    "G_{ij}^n = \n",
    "\\begin{cases}\n",
    "    W_{ij}^n, &\\text{if } W_{ij}^n = \\max_{\\forall x \\in W_i^n} x \\\\\n",
    "    0 &\\text{otherwise.}\n",
    "\\end{cases}\n",
    "$$\n",
    "\n",
    "This metric creates a directed graph. An additional ideia is to create an unique big graph such that the edges are of the form $(i,j,t)$, where $i,j$ are deputies, and $t$ is the temporal slice. \n",
    "\n",
    "### Second option [2, 3] \n",
    "\n",
    "Let $v^{(i)}$ be a vector for the ith deputy such that \n",
    "\n",
    "$$\n",
    "v^{(i)}_k = \\begin{cases}\n",
    "+1 &\\text{if the deputy is favor of the vote } j \\\\\n",
    "p \\in (0,1) &\\text{if the deputy is favorable with restrictions in vote } j \\\\\n",
    "0 &\\text{if the information is unknown in vote } j \\\\\n",
    "-1 &\\text{if the deputy is against of the vote } j\n",
    "\\end{cases}\n",
    "$$\n",
    "\n",
    "Note that the comments about obstruction and abstention hold in this case. Therefore \n",
    "\n",
    "$$\n",
    "w_{ij} = \\frac{1}{n}\\langle v^{(i)}, v^{(j)} \\rangle.\n",
    "$$"
   ]
  },
  {
   "cell_type": "markdown",
   "id": "266067f3-bbaf-4487-8997-6cab3b5668bb",
   "metadata": {},
   "source": [
    "## Building the adjacency matrix\n",
    "\n",
    "We start with the possibilities of the second option. For legislature 56, there is only the following votes: "
   ]
  },
  {
   "cell_type": "code",
   "execution_count": 22,
   "id": "df407d56-f27c-45ec-9de4-d5bc69dd7833",
   "metadata": {},
   "outputs": [
    {
     "data": {
      "text/plain": [
       "array([-1. ,  0. ,  0.1,  1. , 17. ])"
      ]
     },
     "execution_count": 22,
     "metadata": {},
     "output_type": "execute_result"
    }
   ],
   "source": [
    "a = np.unique(incidence_matrix.values.flatten())\n",
    "a[~np.isnan(a)]"
   ]
  },
  {
   "cell_type": "code",
   "execution_count": 56,
   "id": "17481e09-5803-470c-ae31-35afeca042c4",
   "metadata": {},
   "outputs": [],
   "source": [
    "def build_adjacency_matrix_from_inner_product(incidence_matrix, abstention_decision, obstruction_decision): \n",
    "    \"\"\"\n",
    "    This functions builds the adjacency matrix given a decision: \n",
    "    - The -1 and +1 is kept. \n",
    "    - The NaN are filled with 0. \n",
    "    - The 17 is replaced with 0. \n",
    "    - The 0.1 is replaced depending on the decision.\n",
    "    - The 0 is replaced depending on the decision.\n",
    "    \"\"\"\n",
    "    if obstruction_decision == 'against': \n",
    "        incidence_matrix = incidence_matrix.replace({0.1: -1}) \n",
    "    elif obstruction_decision == 'unknown': \n",
    "        incidence_matrix = incidence_matrix.replace({0.1: np.nan})\n",
    "    elif obstruction_decision == 'same':\n",
    "        pass\n",
    "    else: \n",
    "        raise Exception('The decision for obstruction {} was not programmed'.format(obstruction_decision))\n",
    "    \n",
    "    if abstention_decision == 'unknown': \n",
    "        pass\n",
    "    elif abstention_decision == 'partial' or abstention_decision == 'partial-unknown' or abstention_decision == 'same': \n",
    "        incidence_matrix = incidence_matrix.replace({0: 0.5})\n",
    "    elif abstention_decision == 'strong': \n",
    "        for voting, votes in incidence_matrix.iterrows():  \n",
    "            majority = np.sign(votes.sum()) \n",
    "            incidence_matrix.loc[voting] = incidence_matrix.loc[voting].replace({0: majority})\n",
    "    else: \n",
    "        raise Exception('The decision for abstention {} was not programmed'.format(abstention_decision))\n",
    "        \n",
    "    incidence_matrix = incidence_matrix.replace({17: 0}).fillna(0)\n",
    "    \n",
    "    n = incidence_matrix.shape[0]\n",
    "    \n",
    "    if abstention_decision == 'unknown' or abstention_decision == 'strong': \n",
    "        metric = lambda u1, u2: np.inner(u1, u2)\n",
    "    elif abstention_decision == 'partial': \n",
    "        metric = lambda u1, u2: np.inner(u1, u2) + sum(0.25*((u1 == u2) & (u1 == 0.5)))\n",
    "    elif abstention_decision == 'partial-unknown': \n",
    "        metric = lambda u1, u2: sum(-1*(u1 + u2 == 0) + 1*(u1 - u2 == 0) - 1*((u1 == u2)&(u1 == 0)))\n",
    "    elif abstention_decision == 'same': \n",
    "        metric = lambda u1, u2: sum(1*(u1 == u2)&(u1 != 0))\n",
    "        \n",
    "    adj = incidence_matrix.corr(method = metric)/n \n",
    "    \n",
    "    return adj"
   ]
  },
  {
   "cell_type": "markdown",
   "id": "60c0cd6f-008c-4afb-8c62-42c6ab16832b",
   "metadata": {},
   "source": [
    "Let's try this out. "
   ]
  },
  {
   "cell_type": "code",
   "execution_count": 53,
   "id": "672cd20b-34cb-4fb8-8f35-8478cc7f4443",
   "metadata": {},
   "outputs": [],
   "source": [
    "adjacency_matrix = build_adjacency_matrix_from_inner_product(incidence_matrix, 'unknown', 'unknown')\n",
    "ind = np.triu_indices(n = adjacency_matrix.shape[0], k = 1)"
   ]
  },
  {
   "cell_type": "code",
   "execution_count": 54,
   "id": "1c53f162-bfe5-496e-a175-34933333ab36",
   "metadata": {},
   "outputs": [
    {
     "data": {
      "image/png": "[encoded data removed]",
      "text/plain": [
       "<Figure size 432x288 with 1 Axes>"
      ]
     },
     "metadata": {},
     "output_type": "display_data"
    }
   ],
   "source": [
    "plt.hist(adjacency_matrix.values[ind])\n",
    "plt.title(\"Distribution of the correlations: unknown x unknown\")\n",
    "plt.show()"
   ]
  },
  {
   "cell_type": "code",
   "execution_count": 60,
   "id": "d1c880ee-44a9-4a92-b860-f04cbe4638b3",
   "metadata": {},
   "outputs": [
    {
     "data": {
      "image/png": "[encoded data removed]",
      "text/plain": [
       "<Figure size 432x288 with 1 Axes>"
      ]
     },
     "metadata": {},
     "output_type": "display_data"
    }
   ],
   "source": [
    "adjacency_matrix = build_adjacency_matrix_from_inner_product(incidence_matrix, 'partial', 'against')\n",
    "plt.hist(adjacency_matrix.values[ind])\n",
    "plt.title(\"Distribution of the correlations: partial x against\")\n",
    "plt.show()"
   ]
  },
  {
   "cell_type": "code",
   "execution_count": 58,
   "id": "590f3ca8-b2e3-4893-8e4e-7b5663213520",
   "metadata": {},
   "outputs": [
    {
     "data": {
      "image/png": "[encoded data removed]",
      "text/plain": [
       "<Figure size 432x288 with 1 Axes>"
      ]
     },
     "metadata": {},
     "output_type": "display_data"
    }
   ],
   "source": [
    "adjacency_matrix = build_adjacency_matrix_from_inner_product(incidence_matrix, 'partial-unknown', 'against')\n",
    "plt.hist(adjacency_matrix.values[ind])\n",
    "plt.title(\"Distribution of the correlations: partial-unknown x against\")\n",
    "plt.show()"
   ]
  },
  {
   "cell_type": "code",
   "execution_count": 59,
   "id": "f0840a61-9d13-4151-abd5-be406c3faa68",
   "metadata": {},
   "outputs": [
    {
     "data": {
      "image/png": "[encoded data removed]",
      "text/plain": [
       "<Figure size 432x288 with 1 Axes>"
      ]
     },
     "metadata": {},
     "output_type": "display_data"
    }
   ],
   "source": [
    "adjacency_matrix = build_adjacency_matrix_from_inner_product(incidence_matrix, 'strong', 'against')\n",
    "plt.hist(adjacency_matrix.values[ind])\n",
    "plt.title(\"Distribution of the correlations: strong x against\")\n",
    "plt.show()"
   ]
  },
  {
   "cell_type": "markdown",
   "id": "b37dfc1d-010a-4783-8197-6533caa8cce3",
   "metadata": {},
   "source": [
    "# References \n",
    "\n",
    "[1] Colliri, T., Zhao, L. Analyzing the Bills-Voting Dynamics and Predicting Corruption-Convictions Among Brazilian Congressmen Through Temporal Networks. Sci Rep 9, 16754 (2019). https://doi.org/10.1038/s41598-019-53252-9\n",
    "\n",
    "[2] Mario Levorato, Yuri Frota. Brazilian Congress structural balance analysis. Journal of Interdisciplinary Methodologies and Issues in Science, Journal of Interdisciplinary Methodologies and Issues in Science, 2017, Graphs & Social Systems, Graphs and social systems, 10.18713/JIMIS-280217-2-3. hal-01359672v4\n",
    "\n",
    "[3] Brito ACM, Silva FN, Amancio DR (2020) A complex network approach to political analysis: Application to the Brazilian Chamber of Deputies. PLOS ONE 15(3): e0229928. https://doi.org/10.1371/journal.pone.0229928"
   ]
  },
  {
   "cell_type": "code",
   "execution_count": null,
   "id": "8eff72cd-8784-4e67-8f13-0c2478a72703",
   "metadata": {},
   "outputs": [],
   "source": []
  }
 ],
 "metadata": {
  "kernelspec": {
   "display_name": "Python 3.7.3 64-bit ('base')",
   "language": "python",
   "name": "python37364bitbase6782713bed674ed7a26121bd52530782"
  },
  "language_info": {
   "codemirror_mode": {
    "name": "ipython",
    "version": 3
   },
   "file_extension": ".py",
   "mimetype": "text/x-python",
   "name": "python",
   "nbconvert_exporter": "python",
   "pygments_lexer": "ipython3",
   "version": "3.7.1"
  }
 },
 "nbformat": 4,
 "nbformat_minor": 5
}
